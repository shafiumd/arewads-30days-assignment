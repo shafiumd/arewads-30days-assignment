{
 "cells": [
  {
   "cell_type": "markdown",
   "metadata": {},
   "source": [
    "# Exercises - Day 3"
   ]
  },
  {
   "cell_type": "code",
   "execution_count": 1,
   "metadata": {},
   "outputs": [],
   "source": [
    "# exercise 1\n",
    "age = 35"
   ]
  },
  {
   "cell_type": "code",
   "execution_count": 3,
   "metadata": {},
   "outputs": [],
   "source": [
    "# exercise 2\n",
    "height = 9.0"
   ]
  },
  {
   "cell_type": "code",
   "execution_count": 4,
   "metadata": {},
   "outputs": [],
   "source": [
    "# exercise 3\n",
    "complex_num = 3 + 2j\n"
   ]
  },
  {
   "cell_type": "code",
   "execution_count": 8,
   "metadata": {},
   "outputs": [
    {
     "name": "stdout",
     "output_type": "stream",
     "text": [
      "the area of the triangle is 100.0\n"
     ]
    }
   ],
   "source": [
    "# exercise 4\n",
    "base = eval(input(\"Enter base:\"))\n",
    "height = eval(input(\"Enter height:\"))\n",
    "area_of_triangle = 0.5 * base * height\n",
    "print(\"The area of the triangle is\", area_of_triangle)"
   ]
  },
  {
   "cell_type": "code",
   "execution_count": 9,
   "metadata": {},
   "outputs": [
    {
     "name": "stdout",
     "output_type": "stream",
     "text": [
      "The perimeter of the triangle is 12\n"
     ]
    }
   ],
   "source": [
    "# exercise 5\n",
    "side_a = eval(input(\"Enter side a:\"))\n",
    "side_b = eval(input(\"Enter side b:\"))\n",
    "side_c = eval(input(\"Enter side c:\"))\n",
    "perimeter = side_a + side_b + side_c\n",
    "print(\"The perimeter of the triangle is\", perimeter)"
   ]
  },
  {
   "cell_type": "code",
   "execution_count": 13,
   "metadata": {},
   "outputs": [
    {
     "name": "stdout",
     "output_type": "stream",
     "text": [
      "The area of the rectangle is 144 and perimeter of the rectangle is 24\n"
     ]
    }
   ],
   "source": [
    "# exercise 6\n",
    "length = eval(input(\"Enter length:\"))\n",
    "width = eval(input(\"Enter width:\"))\n",
    "area = length * width\n",
    "perimeter =length + width\n",
    "print(\"The area of the rectangle is {} and perimeter of the rectangle is {}\" .format(area,perimeter))"
   ]
  },
  {
   "cell_type": "code",
   "execution_count": 14,
   "metadata": {},
   "outputs": [
    {
     "name": "stdout",
     "output_type": "stream",
     "text": [
      "The area of the circle is 254.34 and circumference of the circle is 56.52\n"
     ]
    }
   ],
   "source": [
    "# exercise 7\n",
    "radius = eval(input(\"Enter radius:\"))\n",
    "area = 3.14 * radius * radius\n",
    "circumference = 2 * 3.14 * radius\n",
    "print(\"The area of the circle is {} and circumference of the circle is {}\" .format(area,circumference))"
   ]
  },
  {
   "cell_type": "code",
   "execution_count": 16,
   "metadata": {},
   "outputs": [
    {
     "name": "stdout",
     "output_type": "stream",
     "text": [
      "Slope (m) = 2\n",
      "X-intercept = 0\n",
      "Y-intercept = -2\n"
     ]
    }
   ],
   "source": [
    "# exercise 8\n",
    "slope = 2\n",
    "x_intercept = 0\n",
    "y_intercept = 2 * x_intercept - 2\n",
    "\n",
    "print(\"Slope (m) = {}\".format(slope))\n",
    "print(\"X-intercept = {}\".format(x_intercept))\n",
    "print(\"Y-intercept = {}\".format(y_intercept))"
   ]
  },
  {
   "cell_type": "code",
   "execution_count": 17,
   "metadata": {},
   "outputs": [
    {
     "name": "stdout",
     "output_type": "stream",
     "text": [
      "Slope (m) = 2.0\n",
      "Euclidean Distance = 8.94427190999916\n"
     ]
    }
   ],
   "source": [
    "# exercise 9\n",
    "\n",
    "x1, y1 = 2, 2\n",
    "x2, y2 = 6, 10\n",
    "slope = (y2 - y1) / (x2 - x1)\n",
    "distance = ((x2 - x1)**2 + (y2 - y1)**2)**0.5\n",
    "\n",
    "print(\"Slope (m) = {}\".format(slope))\n",
    "print(\"Euclidean Distance = {}\".format(distance))\n"
   ]
  },
  {
   "cell_type": "code",
   "execution_count": 20,
   "metadata": {},
   "outputs": [
    {
     "name": "stdout",
     "output_type": "stream",
     "text": [
      "Slope from the equation y = 2x - 2 is 2\n",
      "Slope from the equation (y2 - y1) / (x2 - x1) is 2.0\n"
     ]
    }
   ],
   "source": [
    "# exercise 10\n",
    "print(\"Slope from the equation y = 2x - 2 is 2\")\n",
    "print(\"Slope from the equation (y2 - y1) / (x2 - x1) is 2.0\")\n"
   ]
  },
  {
   "cell_type": "code",
   "execution_count": 27,
   "metadata": {},
   "outputs": [
    {
     "name": "stdout",
     "output_type": "stream",
     "text": [
      "Value of y = x**2 + 6*x + 9 =>  9\n"
     ]
    }
   ],
   "source": [
    "# exercise 11\n",
    "x = 0\n",
    "\n",
    "y = x**2 + 6*x + 9\n",
    "\n",
    "print(\"Value of y = x**2 + 6*x + 9 => \", y)\n"
   ]
  },
  {
   "cell_type": "code",
   "execution_count": 28,
   "metadata": {},
   "outputs": [
    {
     "name": "stdout",
     "output_type": "stream",
     "text": [
      "Value of y = x**2 + 6*x + 9 =>  4\n"
     ]
    }
   ],
   "source": [
    "# exercise 11\n",
    "x = -1\n",
    "\n",
    "y = x**2 + 6*x + 9\n",
    "\n",
    "print(\"Value of y = x**2 + 6*x + 9 => \", y)"
   ]
  },
  {
   "cell_type": "code",
   "execution_count": 29,
   "metadata": {},
   "outputs": [
    {
     "name": "stdout",
     "output_type": "stream",
     "text": [
      "Value of y = x**2 + 6*x + 9 =>  1\n"
     ]
    }
   ],
   "source": [
    "# exercise 11\n",
    "x = -2\n",
    "\n",
    "y = x**2 + 6*x + 9\n",
    "\n",
    "print(\"Value of y = x**2 + 6*x + 9 => \", y)"
   ]
  },
  {
   "cell_type": "code",
   "execution_count": 30,
   "metadata": {},
   "outputs": [
    {
     "name": "stdout",
     "output_type": "stream",
     "text": [
      "Value of y = x**2 + 6*x + 9 =>  0\n"
     ]
    }
   ],
   "source": [
    "# exercise 11\n",
    "x = -3\n",
    "\n",
    "y = x**2 + 6*x + 9\n",
    "\n",
    "print(\"Value of y = x**2 + 6*x + 9 => \", y)"
   ]
  },
  {
   "cell_type": "code",
   "execution_count": 31,
   "metadata": {},
   "outputs": [
    {
     "name": "stdout",
     "output_type": "stream",
     "text": [
      "The length of 'python' is 6\n",
      "The length of 'dragon' is 6\n",
      "Falsy comparison statement: True\n"
     ]
    }
   ],
   "source": [
    "# exercise 12\n",
    "length_python = len('python')\n",
    "length_dragon = len('dragon')\n",
    "\n",
    "falsy_comparison = length_python == length_dragon\n",
    "\n",
    "print(\"The length of 'python' is {}\".format(length_python))\n",
    "print(\"The length of 'dragon' is {}\".format(length_dragon))\n",
    "print(f\"Falsy comparison statement: {falsy_comparison}\")\n"
   ]
  },
  {
   "cell_type": "code",
   "execution_count": 39,
   "metadata": {},
   "outputs": [
    {
     "name": "stdout",
     "output_type": "stream",
     "text": [
      "'on' in 'python': True and 'on' in 'dragon': True\n"
     ]
    }
   ],
   "source": [
    "# exercise 13\n",
    "on_in_python = 'on' in 'python'\n",
    "on_in_dragon = 'on' in 'dragon'\n",
    "result = on_in_python and on_in_dragon\n",
    "print(\"'on' in 'python': {} and 'on' in 'dragon': {}\".format(on_in_python,on_in_dragon))"
   ]
  },
  {
   "cell_type": "code",
   "execution_count": 40,
   "metadata": {},
   "outputs": [
    {
     "name": "stdout",
     "output_type": "stream",
     "text": [
      "'jargon' in the sentence: True\n"
     ]
    }
   ],
   "source": [
    "# exercise 14\n",
    "sentence = \"I hope this course is not full of jargon.\"\n",
    "jargon_in_sentence = 'jargon' in sentence\n",
    "print(\"'jargon' in the sentence: {}\".format(jargon_in_sentence))"
   ]
  },
  {
   "cell_type": "code",
   "execution_count": 41,
   "metadata": {},
   "outputs": [
    {
     "name": "stdout",
     "output_type": "stream",
     "text": [
      "\n"
     ]
    }
   ],
   "source": [
    "# exercise 15\n",
    "result_message = \"There is no 'on' in both dragon and python\" if not result else \"\"\n",
    "print(result_message)\n"
   ]
  },
  {
   "cell_type": "code",
   "execution_count": 43,
   "metadata": {},
   "outputs": [
    {
     "name": "stdout",
     "output_type": "stream",
     "text": [
      "Length of 'python': 6, as float and string: 6.0\n"
     ]
    }
   ],
   "source": [
    "# exercise 16\n",
    "length_python = len('python')\n",
    "str_float_length = str(float(length_python))\n",
    "print(\"Length of 'python': {}, as float and string: {}\".format(length_python,str_float_length))\n"
   ]
  },
  {
   "cell_type": "code",
   "execution_count": 45,
   "metadata": {},
   "outputs": [
    {
     "name": "stdout",
     "output_type": "stream",
     "text": [
      "6 is even: True\n"
     ]
    }
   ],
   "source": [
    "# exercise 17\n",
    "number = 6\n",
    "is_even = number % 2 == 0\n",
    "print(\"{} is even: {}\".format(number,is_even))"
   ]
  },
  {
   "cell_type": "code",
   "execution_count": 47,
   "metadata": {},
   "outputs": [
    {
     "name": "stdout",
     "output_type": "stream",
     "text": [
      "Floor division of 7 by 3 is equal to the int converted value of 2.7: True\n"
     ]
    }
   ],
   "source": [
    "# exercise 18\n",
    "is_equal = 7 // 3 == int(2.7)\n",
    "print(\"Floor division of 7 by 3 is equal to the int converted value of 2.7: {}\".format(is_equal))\n"
   ]
  },
  {
   "cell_type": "code",
   "execution_count": 49,
   "metadata": {},
   "outputs": [
    {
     "name": "stdout",
     "output_type": "stream",
     "text": [
      "Type of '10' is equal to type of 10: False\n"
     ]
    }
   ],
   "source": [
    "# exercise 19\n",
    "are_types_equal = type('10') == type(10)\n",
    "print(\"Type of '10' is equal to type of 10: {}\".format(are_types_equal))\n"
   ]
  },
  {
   "cell_type": "code",
   "execution_count": 50,
   "metadata": {},
   "outputs": [
    {
     "name": "stdout",
     "output_type": "stream",
     "text": [
      "Error: invalid literal for int() with base 10: '9.8'\n"
     ]
    }
   ],
   "source": [
    "# exercise 20\n",
    "try:\n",
    "    result = int('9.8') == 10\n",
    "    print(\"int('9.8') is equal to 10: {}\".format(result))\n",
    "except ValueError as e:\n",
    "    print(f\"Error: {e}\")"
   ]
  },
  {
   "cell_type": "code",
   "execution_count": 51,
   "metadata": {},
   "outputs": [
    {
     "name": "stdout",
     "output_type": "stream",
     "text": [
      "Your weekly earning is 1120\n"
     ]
    }
   ],
   "source": [
    "# exercise 21\n",
    "hours = eval(input(\"Enter hours:\"))\n",
    "rate_per_hour = eval(input(\"Enter rate per hour:\"))\n",
    "weekly_earning = hours * rate_per_hour\n",
    "print(\"Your weekly earning is {}\".format(weekly_earning))"
   ]
  },
  {
   "cell_type": "code",
   "execution_count": 55,
   "metadata": {},
   "outputs": [
    {
     "name": "stdout",
     "output_type": "stream",
     "text": [
      "You have lived for 3153600000 seconds.\n"
     ]
    }
   ],
   "source": [
    "# exercise 22\n",
    "number = eval(input(\"Enter number of years you have lived:\"))\n",
    "year_lived = number * 365 * 24 * 60 * 60\n",
    "print(\"You have lived for {} seconds.\".format(year_lived))"
   ]
  },
  {
   "cell_type": "code",
   "execution_count": 57,
   "metadata": {},
   "outputs": [
    {
     "name": "stdout",
     "output_type": "stream",
     "text": [
      "1 1 1 1 1\n",
      "2 1 2 4 8\n",
      "3 1 3 9 27\n",
      "4 1 4 16 64\n",
      "5 1 5 25 125\n"
     ]
    }
   ],
   "source": [
    "# exercise 23\n",
    "# Display the table\n",
    "for i in range(1, 6):\n",
    "    print(\"{} {} {} {} {}\".format(i,1,i,i**2,i**3))\n"
   ]
  },
  {
   "cell_type": "code",
   "execution_count": null,
   "metadata": {},
   "outputs": [],
   "source": []
  }
 ],
 "metadata": {
  "kernelspec": {
   "display_name": "Python 3",
   "language": "python",
   "name": "python3"
  },
  "language_info": {
   "codemirror_mode": {
    "name": "ipython",
    "version": 3
   },
   "file_extension": ".py",
   "mimetype": "text/x-python",
   "name": "python",
   "nbconvert_exporter": "python",
   "pygments_lexer": "ipython3",
   "version": "3.9.13"
  }
 },
 "nbformat": 4,
 "nbformat_minor": 2
}
