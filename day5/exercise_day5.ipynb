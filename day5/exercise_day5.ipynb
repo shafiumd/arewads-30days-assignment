{
 "cells": [
  {
   "cell_type": "markdown",
   "metadata": {},
   "source": [
    "# Exercises - Day 5"
   ]
  },
  {
   "cell_type": "markdown",
   "metadata": {},
   "source": [
    "##### Exercises: Level 1"
   ]
  },
  {
   "cell_type": "code",
   "execution_count": 1,
   "metadata": {},
   "outputs": [],
   "source": [
    "# exercise 1\n",
    "empty_list = []"
   ]
  },
  {
   "cell_type": "code",
   "execution_count": 2,
   "metadata": {},
   "outputs": [],
   "source": [
    "# exercise 2\n",
    "more_than_five_items = [1, 2, 3, 4, 5, 6, 7]"
   ]
  },
  {
   "cell_type": "code",
   "execution_count": 3,
   "metadata": {},
   "outputs": [],
   "source": [
    "# exercise 3\n",
    "length_of_list = len(more_than_five_items)"
   ]
  },
  {
   "cell_type": "code",
   "execution_count": 4,
   "metadata": {},
   "outputs": [],
   "source": [
    "# exercise 4\n",
    "first_item = more_than_five_items[0]\n",
    "middle_item = more_than_five_items[length_of_list // 2]\n",
    "last_item = more_than_five_items[-1]"
   ]
  },
  {
   "cell_type": "code",
   "execution_count": 5,
   "metadata": {},
   "outputs": [],
   "source": [
    "# exercise 5\n",
    "mixed_data_types = ['John', 25, 175, 'Single', '123 Main St']"
   ]
  },
  {
   "cell_type": "code",
   "execution_count": 6,
   "metadata": {},
   "outputs": [],
   "source": [
    "# exercise 6\n",
    "it_companies = ['Facebook', 'Google', 'Microsoft', 'Apple', 'IBM', 'Oracle', 'Amazon']"
   ]
  },
  {
   "cell_type": "code",
   "execution_count": 7,
   "metadata": {},
   "outputs": [
    {
     "name": "stdout",
     "output_type": "stream",
     "text": [
      "['Facebook', 'Google', 'Microsoft', 'Apple', 'IBM', 'Oracle', 'Amazon']\n"
     ]
    }
   ],
   "source": [
    "# exercise 7\n",
    "print(it_companies)"
   ]
  },
  {
   "cell_type": "code",
   "execution_count": 8,
   "metadata": {},
   "outputs": [
    {
     "name": "stdout",
     "output_type": "stream",
     "text": [
      "7\n"
     ]
    }
   ],
   "source": [
    "# exercise 8\n",
    "number_of_companies = len(it_companies)\n",
    "print(number_of_companies)"
   ]
  },
  {
   "cell_type": "code",
   "execution_count": 9,
   "metadata": {},
   "outputs": [
    {
     "name": "stdout",
     "output_type": "stream",
     "text": [
      "Facebook\n",
      "Apple\n",
      "Amazon\n"
     ]
    }
   ],
   "source": [
    "# exercise 9\n",
    "first_company = it_companies[0]\n",
    "middle_company = it_companies[number_of_companies // 2]\n",
    "last_company = it_companies[-1]\n",
    "\n",
    "print(first_company)\n",
    "print(middle_company)\n",
    "print(last_company)"
   ]
  },
  {
   "cell_type": "code",
   "execution_count": 10,
   "metadata": {},
   "outputs": [
    {
     "name": "stdout",
     "output_type": "stream",
     "text": [
      "['Facebook', 'Google', 'LinkedIn', 'Apple', 'IBM', 'Oracle', 'Amazon']\n"
     ]
    }
   ],
   "source": [
    "# exercise 10\n",
    "it_companies[2] = 'LinkedIn'\n",
    "print(it_companies)\n"
   ]
  },
  {
   "cell_type": "code",
   "execution_count": 11,
   "metadata": {},
   "outputs": [],
   "source": [
    "# exercise 11\n",
    "it_companies.append('Twitter')"
   ]
  },
  {
   "cell_type": "code",
   "execution_count": 12,
   "metadata": {},
   "outputs": [],
   "source": [
    "# exercise 12\n",
    "it_companies.insert(number_of_companies // 2, 'Salesforce')"
   ]
  },
  {
   "cell_type": "code",
   "execution_count": 13,
   "metadata": {},
   "outputs": [],
   "source": [
    "# exercise 13\n",
    "it_companies[4] = it_companies[4].upper()"
   ]
  },
  {
   "cell_type": "code",
   "execution_count": 14,
   "metadata": {},
   "outputs": [
    {
     "name": "stdout",
     "output_type": "stream",
     "text": [
      "Facebook#; Google#; LinkedIn#; Salesforce#; APPLE#; IBM#; Oracle#; Amazon#; Twitter\n"
     ]
    }
   ],
   "source": [
    "# exercise 14\n",
    "joined_companies = '#; '.join(it_companies)\n",
    "print(joined_companies)"
   ]
  },
  {
   "cell_type": "code",
   "execution_count": 15,
   "metadata": {},
   "outputs": [
    {
     "name": "stdout",
     "output_type": "stream",
     "text": [
      "False\n"
     ]
    }
   ],
   "source": [
    "# exercise 15\n",
    "company_to_check = 'Microsoft'\n",
    "company_exists = company_to_check in it_companies\n",
    "print(company_exists)"
   ]
  },
  {
   "cell_type": "code",
   "execution_count": 16,
   "metadata": {},
   "outputs": [],
   "source": [
    "# exercise 16\n",
    "it_companies.sort()"
   ]
  },
  {
   "cell_type": "code",
   "execution_count": 17,
   "metadata": {},
   "outputs": [],
   "source": [
    "# exercise 17\n",
    "it_companies.reverse()"
   ]
  },
  {
   "cell_type": "code",
   "execution_count": 18,
   "metadata": {},
   "outputs": [],
   "source": [
    "# exercise 18\n",
    "first_three_companies = it_companies[:3]"
   ]
  },
  {
   "cell_type": "code",
   "execution_count": 19,
   "metadata": {},
   "outputs": [],
   "source": [
    "# exercise 19\n",
    "last_three_companies = it_companies[-3:]"
   ]
  },
  {
   "cell_type": "code",
   "execution_count": 20,
   "metadata": {},
   "outputs": [],
   "source": [
    "# exercise 20\n",
    "middle_index = len(it_companies) // 2\n",
    "middle_companies = it_companies[middle_index - 1:middle_index + 2]"
   ]
  },
  {
   "cell_type": "code",
   "execution_count": 21,
   "metadata": {},
   "outputs": [
    {
     "data": {
      "text/plain": [
       "'Twitter'"
      ]
     },
     "execution_count": 21,
     "metadata": {},
     "output_type": "execute_result"
    }
   ],
   "source": [
    "# exercise 21\n",
    "it_companies.pop(0)"
   ]
  },
  {
   "cell_type": "code",
   "execution_count": 22,
   "metadata": {},
   "outputs": [
    {
     "data": {
      "text/plain": [
       "'Google'"
      ]
     },
     "execution_count": 22,
     "metadata": {},
     "output_type": "execute_result"
    }
   ],
   "source": [
    "# exercise 22\n",
    "it_companies.pop(middle_index)"
   ]
  },
  {
   "cell_type": "code",
   "execution_count": 23,
   "metadata": {},
   "outputs": [
    {
     "data": {
      "text/plain": [
       "'APPLE'"
      ]
     },
     "execution_count": 23,
     "metadata": {},
     "output_type": "execute_result"
    }
   ],
   "source": [
    "# exercise 23\n",
    "it_companies.pop()"
   ]
  },
  {
   "cell_type": "code",
   "execution_count": 24,
   "metadata": {},
   "outputs": [],
   "source": [
    "# exercise 24\n",
    "it_companies.clear()"
   ]
  },
  {
   "cell_type": "code",
   "execution_count": 25,
   "metadata": {},
   "outputs": [],
   "source": [
    "# exercise 25\n",
    "del it_companies"
   ]
  },
  {
   "cell_type": "code",
   "execution_count": 26,
   "metadata": {},
   "outputs": [],
   "source": [
    "# exercise 26\n",
    "front_end = ['HTML', 'CSS', 'JS', 'React', 'Redux']\n",
    "back_end = ['Node', 'Express', 'MongoDB']"
   ]
  },
  {
   "cell_type": "code",
   "execution_count": 30,
   "metadata": {},
   "outputs": [
    {
     "name": "stdout",
     "output_type": "stream",
     "text": [
      "['HTML', 'CSS', 'JS', 'React', 'Redux', 'Python', 'SQL', 'Node', 'Express', 'MongoDB']\n"
     ]
    }
   ],
   "source": [
    "# exercise 27\n",
    "full_stack = front_end + back_end\n",
    "full_stack.insert(full_stack.index('Redux') + 1, 'Python')\n",
    "full_stack.insert(full_stack.index('Redux') + 2, 'SQL')\n",
    "print(full_stack)"
   ]
  },
  {
   "cell_type": "markdown",
   "metadata": {},
   "source": [
    "##### Exercises: Level 2"
   ]
  },
  {
   "cell_type": "code",
   "execution_count": 32,
   "metadata": {},
   "outputs": [
    {
     "name": "stdout",
     "output_type": "stream",
     "text": [
      "Sorted Ages: [19, 19, 20, 22, 24, 24, 24, 25, 25, 26, 19, 26]\n",
      "Min Age: 19\n",
      "Max Age: 26\n",
      "Median Age: 24.0\n",
      "Average Age: 22.75\n",
      "Age Range: 7\n",
      "Min - Average Difference: 3.75\n",
      "Max - Average Difference: 3.25\n",
      "Middle Countries: Finland\n",
      "First Half Countries: ['China', 'Russia', 'USA', 'Finland']\n",
      "Second Half Countries: ['Sweden', 'Norway', 'Denmark']\n",
      "Unpacked Countries:\n",
      "First Country: China\n",
      "Second Country: Russia\n",
      "Third Country: USA\n",
      "Scandic Countries: ['Finland', 'Sweden', 'Norway', 'Denmark']\n"
     ]
    }
   ],
   "source": [
    "# List of 10 students ages\n",
    "ages = [19, 22, 19, 24, 20, 25, 26, 24, 25, 24]\n",
    "\n",
    "# Sort the list and find the min and max age\n",
    "ages.sort()\n",
    "min_age = min(ages)\n",
    "max_age = max(ages)\n",
    "\n",
    "# Add the min age and the max age again to the list\n",
    "ages.extend([min_age, max_age])\n",
    "\n",
    "# Find the median age\n",
    "middle_index = len(ages) // 2\n",
    "median_age = (ages[middle_index - 1] + ages[middle_index]) / 2 if len(ages) % 2 == 0 else ages[middle_index]\n",
    "\n",
    "# Find the average age\n",
    "average_age = sum(ages) / len(ages)\n",
    "\n",
    "# Find the range of the ages\n",
    "age_range = max(ages) - min(ages)\n",
    "\n",
    "# Compare the value of (min - average) and (max - average), use abs() method\n",
    "min_average_difference = abs(min_age - average_age)\n",
    "max_average_difference = abs(max_age - average_age)\n",
    "\n",
    "# Find the middle country(ies) in the countries list\n",
    "countries = ['China', 'Russia', 'USA', 'Finland', 'Sweden', 'Norway', 'Denmark']\n",
    "middle_countries = countries[len(countries) // 2]\n",
    "\n",
    "# Divide the countries list into two equal lists if it is even, if not one more country for the first half\n",
    "half_length = len(countries) // 2\n",
    "first_half_countries = countries[:half_length + len(countries) % 2]\n",
    "second_half_countries = countries[half_length + len(countries) % 2:]\n",
    "\n",
    "# Unpack the first three countries and the rest as scandic countries\n",
    "first_country, second_country, third_country, *scandic_countries = countries\n",
    "\n",
    "# Print the results\n",
    "print(\"Sorted Ages:\", ages)\n",
    "print(\"Min Age:\", min_age)\n",
    "print(\"Max Age:\", max_age)\n",
    "print(\"Median Age:\", median_age)\n",
    "print(\"Average Age:\", average_age)\n",
    "print(\"Age Range:\", age_range)\n",
    "print(\"Min - Average Difference:\", min_average_difference)\n",
    "print(\"Max - Average Difference:\", max_average_difference)\n",
    "print(\"Middle Countries:\", middle_countries)\n",
    "print(\"First Half Countries:\", first_half_countries)\n",
    "print(\"Second Half Countries:\", second_half_countries)\n",
    "print(\"Unpacked Countries:\")\n",
    "print(\"First Country:\", first_country)\n",
    "print(\"Second Country:\", second_country)\n",
    "print(\"Third Country:\", third_country)\n",
    "print(\"Scandic Countries:\", scandic_countries)\n"
   ]
  },
  {
   "cell_type": "code",
   "execution_count": null,
   "metadata": {},
   "outputs": [],
   "source": []
  }
 ],
 "metadata": {
  "kernelspec": {
   "display_name": "base",
   "language": "python",
   "name": "python3"
  },
  "language_info": {
   "codemirror_mode": {
    "name": "ipython",
    "version": 3
   },
   "file_extension": ".py",
   "mimetype": "text/x-python",
   "name": "python",
   "nbconvert_exporter": "python",
   "pygments_lexer": "ipython3",
   "version": "3.9.13"
  }
 },
 "nbformat": 4,
 "nbformat_minor": 2
}
