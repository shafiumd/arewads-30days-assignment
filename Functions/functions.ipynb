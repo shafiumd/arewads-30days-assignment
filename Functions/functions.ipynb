{
 "cells": [
  {
   "cell_type": "markdown",
   "metadata": {},
   "source": [
    "# 8-1. Message:"
   ]
  },
  {
   "cell_type": "code",
   "execution_count": 1,
   "metadata": {},
   "outputs": [
    {
     "name": "stdout",
     "output_type": "stream",
     "text": [
      "In this chapter, we are learning about the fundamentals of programming with Python.\n"
     ]
    }
   ],
   "source": [
    "def display_message():\n",
    "    chapter_message = \"In this chapter, we are learning about the fundamentals of programming with Python.\"\n",
    "    print(chapter_message)\n",
    "\n",
    "display_message()\n"
   ]
  },
  {
   "cell_type": "markdown",
   "metadata": {},
   "source": [
    "# 8-2. Favorite Book:"
   ]
  },
  {
   "cell_type": "code",
   "execution_count": 2,
   "metadata": {},
   "outputs": [
    {
     "name": "stdout",
     "output_type": "stream",
     "text": [
      "One of my favorite books is Alice in Wonderland.\n"
     ]
    }
   ],
   "source": [
    "def favorite_book(title):\n",
    "    print(\"One of my favorite books is \" + title + \".\")\n",
    "\n",
    "favorite_book(\"Alice in Wonderland\")\n"
   ]
  },
  {
   "cell_type": "markdown",
   "metadata": {},
   "source": [
    "# 8-3. T-Shirt: "
   ]
  },
  {
   "cell_type": "code",
   "execution_count": 3,
   "metadata": {},
   "outputs": [
    {
     "name": "stdout",
     "output_type": "stream",
     "text": [
      "The shirt is size Large and it says: 'Hello World!'.\n",
      "The shirt is size Medium and it says: 'Python Rocks!'.\n"
     ]
    }
   ],
   "source": [
    "def make_shirt(size, message):\n",
    "    print(\"The shirt is size \" + size + \" and it says: '\" + message + \"'.\")\n",
    "\n",
    "make_shirt(\"Large\", \"Hello World!\")\n",
    "\n",
    "make_shirt(size=\"Medium\", message=\"Python Rocks!\")\n"
   ]
  },
  {
   "cell_type": "markdown",
   "metadata": {},
   "source": [
    "# 8-4. Large Shirts:"
   ]
  },
  {
   "cell_type": "code",
   "execution_count": 4,
   "metadata": {},
   "outputs": [
    {
     "name": "stdout",
     "output_type": "stream",
     "text": [
      "The shirt is size Large and it says: 'I love Python'.\n",
      "The shirt is size Medium and it says: 'I love Python'.\n",
      "The shirt is size Small and it says: 'Coding is fun!'.\n"
     ]
    }
   ],
   "source": [
    "def make_shirt(size=\"Large\", message=\"I love Python\"):\n",
    "    print(\"The shirt is size \" + size + \" and it says: '\" + message + \"'.\")\n",
    "\n",
    "make_shirt()\n",
    "\n",
    "make_shirt(size=\"Medium\")\n",
    "\n",
    "make_shirt(size=\"Small\", message=\"Coding is fun!\")\n"
   ]
  },
  {
   "cell_type": "markdown",
   "metadata": {},
   "source": [
    "# 8-5. Cities: "
   ]
  },
  {
   "cell_type": "code",
   "execution_count": 6,
   "metadata": {},
   "outputs": [
    {
     "name": "stdout",
     "output_type": "stream",
     "text": [
      "Reykjavik is in Iceland.\n",
      "Paris is in France.\n",
      "Abuja is in Nigeria.\n"
     ]
    }
   ],
   "source": [
    "def describe_city(city, country=\"Nigeria\"):\n",
    "    print(city + \" is in \" + country + \".\")\n",
    "\n",
    "describe_city(\"Reykjavik\", \"Iceland\")\n",
    "describe_city(\"Paris\", \"France\")\n",
    "describe_city(\"Abuja\")\n"
   ]
  },
  {
   "cell_type": "markdown",
   "metadata": {},
   "source": [
    "# 8-6. City Names:"
   ]
  },
  {
   "cell_type": "code",
   "execution_count": 9,
   "metadata": {},
   "outputs": [
    {
     "name": "stdout",
     "output_type": "stream",
     "text": [
      "Abuja, Nigeria\n",
      "Paris, France\n",
      "New York, United States\n"
     ]
    }
   ],
   "source": [
    "def city_country(city, country):\n",
    "    return f\"{city.title()}, {country.title()}\"\n",
    "\n",
    "result1 = city_country(\"Abuja\", \"Nigeria\")\n",
    "result2 = city_country(\"paris\", \"france\")\n",
    "result3 = city_country(\"new york\", \"united states\")\n",
    "\n",
    "print(result1)\n",
    "print(result2)\n",
    "print(result3)\n"
   ]
  },
  {
   "cell_type": "markdown",
   "metadata": {},
   "source": [
    "# 8-7. Album: "
   ]
  },
  {
   "cell_type": "code",
   "execution_count": 11,
   "metadata": {},
   "outputs": [
    {
     "name": "stdout",
     "output_type": "stream",
     "text": [
      "{'artist': 'The Beatles', 'title': 'Abbey Road'}\n",
      "{'artist': 'Taylor Swift', 'title': '1989', 'num_songs': 13}\n",
      "{'artist': 'Ed Sheeran', 'title': '÷ (Divide)', 'num_songs': 12}\n"
     ]
    }
   ],
   "source": [
    "def make_album(artist, title, num_songs=None):\n",
    "    album = {\"artist\": artist, \"title\": title}\n",
    "    if num_songs:\n",
    "        album[\"num_songs\"] = num_songs\n",
    "    return album\n",
    "\n",
    "album1 = make_album(\"The Beatles\", \"Abbey Road\")\n",
    "album2 = make_album(\"Taylor Swift\", \"1989\", 13)\n",
    "album3 = make_album(\"Ed Sheeran\", \"÷ (Divide)\", 12)\n",
    "\n",
    "print(album1)\n",
    "print(album2)\n",
    "print(album3)\n"
   ]
  },
  {
   "cell_type": "markdown",
   "metadata": {},
   "source": [
    "# 8-8. User Albums: "
   ]
  },
  {
   "cell_type": "code",
   "execution_count": 12,
   "metadata": {},
   "outputs": [
    {
     "name": "stdout",
     "output_type": "stream",
     "text": [
      "Album information:\n",
      "{'artist': 'Ariana Grande', 'title': 'Sweetner', 'num_songs': 17}\n",
      "Album information:\n",
      "{'artist': 'Eminem', 'title': 'Kamakazi', 'num_songs': 13}\n",
      "Album information:\n",
      "{'artist': 'Taylor swift', 'title': 'Reputation', 'num_songs': 15}\n",
      "Album information:\n",
      "{'artist': '', 'title': ''}\n"
     ]
    }
   ],
   "source": [
    "def make_album(artist, title, num_songs=None):\n",
    "    album = {\"artist\": artist, \"title\": title}\n",
    "    if num_songs:\n",
    "        album[\"num_songs\"] = num_songs\n",
    "    return album\n",
    "\n",
    "while True:\n",
    "    artist_input = input(\"Enter the artist name (or 'quit' to exit): \")\n",
    "    if artist_input.lower() == 'quit':\n",
    "        break\n",
    "\n",
    "    title_input = input(\"Enter the album title: \")\n",
    "    num_songs_input = input(\"Enter the number of songs (optional): \")\n",
    "\n",
    "    if num_songs_input.isdigit():\n",
    "        num_songs_input = int(num_songs_input)\n",
    "        album_info = make_album(artist_input, title_input, num_songs_input)\n",
    "    else:\n",
    "        album_info = make_album(artist_input, title_input)\n",
    "\n",
    "    print(\"Album information:\")\n",
    "    print(album_info)\n"
   ]
  },
  {
   "cell_type": "markdown",
   "metadata": {},
   "source": [
    "# 8-9. Messages: "
   ]
  },
  {
   "cell_type": "code",
   "execution_count": 1,
   "metadata": {},
   "outputs": [
    {
     "name": "stdout",
     "output_type": "stream",
     "text": [
      "Hello, how are you?\n",
      "Don't forget to pick up groceries.\n",
      "Happy birthday!\n",
      "Python programming is fun!\n"
     ]
    }
   ],
   "source": [
    "def show_messages(messages):\n",
    "    for message in messages:\n",
    "        print(message)\n",
    "\n",
    "text_messages = [\n",
    "    \"Hello, how are you?\",\n",
    "    \"Don't forget to pick up groceries.\",\n",
    "    \"Happy birthday!\",\n",
    "    \"Python programming is fun!\"\n",
    "]\n",
    "\n",
    "show_messages(text_messages)\n"
   ]
  },
  {
   "cell_type": "markdown",
   "metadata": {},
   "source": [
    "# 8-10. Sending Messages: "
   ]
  },
  {
   "cell_type": "code",
   "execution_count": 2,
   "metadata": {},
   "outputs": [
    {
     "name": "stdout",
     "output_type": "stream",
     "text": [
      "Sending message: Hello, how are you?\n",
      "Sending message: Don't forget to pick up groceries.\n",
      "Sending message: Happy birthday!\n",
      "Sending message: Python programming is fun!\n",
      "Original Messages:\n",
      "\n",
      "Sent Messages:\n",
      "Hello, how are you?\n",
      "Don't forget to pick up groceries.\n",
      "Happy birthday!\n",
      "Python programming is fun!\n"
     ]
    }
   ],
   "source": [
    "def show_messages(messages):\n",
    "    for message in messages:\n",
    "        print(message)\n",
    "\n",
    "def send_messages(messages, sent_messages):\n",
    "    while messages:\n",
    "        current_message = messages.pop(0)\n",
    "        print(\"Sending message: \" + current_message)\n",
    "        sent_messages.append(current_message)\n",
    "\n",
    "text_messages = [\n",
    "    \"Hello, how are you?\",\n",
    "    \"Don't forget to pick up groceries.\",\n",
    "    \"Happy birthday!\",\n",
    "    \"Python programming is fun!\"\n",
    "]\n",
    "\n",
    "sent_messages = []\n",
    "\n",
    "send_messages(text_messages, sent_messages)\n",
    "\n",
    "print(\"Original Messages:\")\n",
    "show_messages(text_messages)\n",
    "\n",
    "print(\"\\nSent Messages:\")\n",
    "show_messages(sent_messages)\n"
   ]
  },
  {
   "cell_type": "markdown",
   "metadata": {},
   "source": [
    "# 8-11. Archived Messages: "
   ]
  },
  {
   "cell_type": "code",
   "execution_count": 3,
   "metadata": {},
   "outputs": [
    {
     "name": "stdout",
     "output_type": "stream",
     "text": [
      "Sending message: Hello, how are you?\n",
      "Sending message: Don't forget to pick up groceries.\n",
      "Sending message: Happy birthday!\n",
      "Sending message: Python programming is fun!\n",
      "Original Messages:\n",
      "Hello, how are you?\n",
      "Don't forget to pick up groceries.\n",
      "Happy birthday!\n",
      "Python programming is fun!\n",
      "\n",
      "Sent Messages:\n",
      "Hello, how are you?\n",
      "Don't forget to pick up groceries.\n",
      "Happy birthday!\n",
      "Python programming is fun!\n"
     ]
    }
   ],
   "source": [
    "def show_messages(messages):\n",
    "    for message in messages:\n",
    "        print(message)\n",
    "\n",
    "def send_messages(messages, sent_messages):\n",
    "    while messages:\n",
    "        current_message = messages.pop(0)\n",
    "        print(\"Sending message: \" + current_message)\n",
    "        sent_messages.append(current_message)\n",
    "\n",
    "text_messages = [\n",
    "    \"Hello, how are you?\",\n",
    "    \"Don't forget to pick up groceries.\",\n",
    "    \"Happy birthday!\",\n",
    "    \"Python programming is fun!\"\n",
    "]\n",
    "\n",
    "sent_messages = []\n",
    "\n",
    "send_messages(text_messages[:], sent_messages)\n",
    "\n",
    "print(\"Original Messages:\")\n",
    "show_messages(text_messages)\n",
    "\n",
    "print(\"\\nSent Messages:\")\n",
    "show_messages(sent_messages)\n"
   ]
  },
  {
   "cell_type": "markdown",
   "metadata": {},
   "source": [
    "# 8-12. Sandwiches:"
   ]
  },
  {
   "cell_type": "code",
   "execution_count": 4,
   "metadata": {},
   "outputs": [
    {
     "name": "stdout",
     "output_type": "stream",
     "text": [
      "Making a sandwich with the following items:\n",
      "- Ham\n",
      "- Cheese\n",
      "- Lettuce\n",
      "Sandwich is ready!\n",
      "\n",
      "Making a sandwich with the following items:\n",
      "- Turkey\n",
      "- Swiss\n",
      "Sandwich is ready!\n",
      "\n",
      "Making a sandwich with the following items:\n",
      "- Peanut Butter\n",
      "- Jelly\n",
      "- Banana\n",
      "Sandwich is ready!\n",
      "\n"
     ]
    }
   ],
   "source": [
    "def make_sandwich(*ingredients):\n",
    "    print(\"Making a sandwich with the following items:\")\n",
    "    for item in ingredients:\n",
    "        print(\"- \" + item)\n",
    "    print(\"Sandwich is ready!\\n\")\n",
    "\n",
    "make_sandwich(\"Ham\", \"Cheese\", \"Lettuce\")\n",
    "make_sandwich(\"Turkey\", \"Swiss\")\n",
    "make_sandwich(\"Peanut Butter\", \"Jelly\", \"Banana\")\n"
   ]
  },
  {
   "cell_type": "markdown",
   "metadata": {},
   "source": [
    "# 8-13. User Profile: "
   ]
  },
  {
   "cell_type": "code",
   "execution_count": 5,
   "metadata": {},
   "outputs": [
    {
     "name": "stdout",
     "output_type": "stream",
     "text": [
      "My Profile:\n",
      "{'first_name': 'Shafiu', 'last_name': 'Muhammad', 'age': 25, 'occupation': 'Student', 'hobbies': ['Reading', 'Programming', 'Traveling']}\n"
     ]
    }
   ],
   "source": [
    "def build_profile(first_name, last_name, **additional_info):\n",
    "    profile = {'first_name': first_name, 'last_name': last_name}\n",
    "    profile.update(additional_info)\n",
    "    return profile\n",
    "\n",
    "my_profile = build_profile(\n",
    "    first_name='Shafiu',\n",
    "    last_name='Muhammad',\n",
    "    age=25,\n",
    "    occupation='Student',\n",
    "    hobbies=['Reading', 'Programming', 'Traveling']\n",
    ")\n",
    "\n",
    "print(\"My Profile:\")\n",
    "print(my_profile)\n"
   ]
  },
  {
   "cell_type": "markdown",
   "metadata": {},
   "source": [
    "# 8-14. Cars:"
   ]
  },
  {
   "cell_type": "code",
   "execution_count": 7,
   "metadata": {},
   "outputs": [
    {
     "name": "stdout",
     "output_type": "stream",
     "text": [
      "{'manufacturer': 'subaru', 'model': 'outback', 'color': 'blue', 'tow_package': True}\n"
     ]
    }
   ],
   "source": [
    "def make_car(manufacturer, model, **car_info):\n",
    "    car = {'manufacturer': manufacturer, 'model': model}\n",
    "    car.update(car_info)\n",
    "    return car\n",
    "\n",
    "car = make_car('subaru', 'outback', color='blue', tow_package=True)\n",
    "\n",
    "print(car)\n"
   ]
  },
  {
   "cell_type": "markdown",
   "metadata": {},
   "source": [
    "# 8-15. Printing Models: "
   ]
  },
  {
   "cell_type": "code",
   "execution_count": 16,
   "metadata": {},
   "outputs": [
    {
     "name": "stdout",
     "output_type": "stream",
     "text": [
      "Printing model: dodecahedron\n",
      "Printing model: robot pendant\n",
      "Printing model: iphone case\n",
      "\n",
      "Completed Models:\n",
      "dodecahedron\n",
      "robot pendant\n",
      "iphone case\n"
     ]
    }
   ],
   "source": [
    "from printing_functions import print_models, show_completed_models\n",
    "\n",
    "unprinted_designs = ['iphone case', 'robot pendant', 'dodecahedron']\n",
    "completed_models = []\n",
    "\n",
    "print_models(unprinted_designs, completed_models)\n",
    "show_completed_models(completed_models)\n"
   ]
  },
  {
   "cell_type": "markdown",
   "metadata": {},
   "source": [
    "# 8-16. Imports: "
   ]
  },
  {
   "cell_type": "code",
   "execution_count": 17,
   "metadata": {},
   "outputs": [
    {
     "name": "stdout",
     "output_type": "stream",
     "text": [
      "Approach 1: {'manufacturer': 'Toyota', 'model': 'Camry', 'color': 'blue'}\n",
      "Approach 2: {'manufacturer': 'Honda', 'model': 'Civic', 'year': 2023}\n",
      "Approach 3: {'manufacturer': 'Ford', 'model': 'Mustang', 'color': 'red'}\n",
      "Approach 4: {'manufacturer': 'Chevrolet', 'model': 'Malibu', 'fuel_type': 'hybrid'}\n",
      "Approach 5: {'manufacturer': 'Nissan', 'model': 'Altima', 'transmission': 'automatic'}\n"
     ]
    }
   ],
   "source": [
    "import car_functions\n",
    "from car_functions import make_car\n",
    "from car_functions import make_car as create_car\n",
    "import car_functions as cf\n",
    "from car_functions import *\n",
    "\n",
    "car1 = car_functions.make_car('Toyota', 'Camry', color='blue')\n",
    "\n",
    "car2 = make_car('Honda', 'Civic', year=2023)\n",
    "\n",
    "car3 = create_car('Ford', 'Mustang', color='red')\n",
    "\n",
    "car4 = cf.make_car('Chevrolet', 'Malibu', fuel_type='hybrid')\n",
    "\n",
    "car5 = make_car('Nissan', 'Altima', transmission='automatic')\n",
    "\n",
    "print(\"Approach 1:\", car1)\n",
    "print(\"Approach 2:\", car2)\n",
    "print(\"Approach 3:\", car3)\n",
    "print(\"Approach 4:\", car4)\n",
    "print(\"Approach 5:\", car5)\n"
   ]
  },
  {
   "cell_type": "markdown",
   "metadata": {},
   "source": [
    "# 8-17. Styling Functions:"
   ]
  },
  {
   "cell_type": "markdown",
   "metadata": {},
   "source": [
    "#### 1. make_shirt() function:"
   ]
  },
  {
   "cell_type": "code",
   "execution_count": 18,
   "metadata": {},
   "outputs": [
    {
     "name": "stdout",
     "output_type": "stream",
     "text": [
      "{'size': 'Large', 'message': 'I love Python'}\n",
      "{'size': 'Medium', 'message': 'Python Rocks!'}\n"
     ]
    }
   ],
   "source": [
    "def make_shirt(size=\"Large\", message=\"I love Python\"):\n",
    "    \"\"\"Create a dictionary describing a music album.\n",
    "\n",
    "    Args:\n",
    "        size (str): The size of the shirt (default is \"Large\").\n",
    "        message (str): The text message to be printed on the shirt\n",
    "                       (default is \"I love Python\").\n",
    "\n",
    "    Returns:\n",
    "        dict: A dictionary containing information about the shirt.\n",
    "\n",
    "    \"\"\"\n",
    "    shirt_info = {\"size\": size, \"message\": message}\n",
    "    return shirt_info\n",
    "\n",
    "shirt1 = make_shirt()\n",
    "shirt2 = make_shirt(size=\"Medium\", message=\"Python Rocks!\")\n",
    "\n",
    "print(shirt1)\n",
    "print(shirt2)\n"
   ]
  },
  {
   "cell_type": "markdown",
   "metadata": {},
   "source": [
    "#### 2. make_album() function:"
   ]
  },
  {
   "cell_type": "code",
   "execution_count": 19,
   "metadata": {},
   "outputs": [
    {
     "name": "stdout",
     "output_type": "stream",
     "text": [
      "{'artist': 'The Beatles', 'title': 'Abbey Road'}\n",
      "{'artist': 'Taylor Swift', 'title': '1989', 'num_songs': 13}\n",
      "{'artist': 'Ed Sheeran', 'title': '÷ (Divide)', 'num_songs': 12}\n"
     ]
    }
   ],
   "source": [
    "def make_album(artist, title, num_songs=None):\n",
    "    \"\"\"Create a dictionary describing a music album.\n",
    "\n",
    "    Args:\n",
    "        artist (str): The name of the artist.\n",
    "        title (str): The title of the album.\n",
    "        num_songs (int, optional): The number of songs on the album.\n",
    "\n",
    "    Returns:\n",
    "        dict: A dictionary containing information about the album.\n",
    "\n",
    "    \"\"\"\n",
    "    album = {\"artist\": artist, \"title\": title}\n",
    "    if num_songs:\n",
    "        album[\"num_songs\"] = num_songs\n",
    "    return album\n",
    "\n",
    "album1 = make_album(\"The Beatles\", \"Abbey Road\")\n",
    "album2 = make_album(\"Taylor Swift\", \"1989\", 13)\n",
    "album3 = make_album(\"Ed Sheeran\", \"÷ (Divide)\", 12)\n",
    "\n",
    "print(album1)\n",
    "print(album2)\n",
    "print(album3)\n"
   ]
  },
  {
   "cell_type": "markdown",
   "metadata": {},
   "source": [
    "#### 3. make_car() function:"
   ]
  },
  {
   "cell_type": "code",
   "execution_count": 20,
   "metadata": {},
   "outputs": [
    {
     "name": "stdout",
     "output_type": "stream",
     "text": [
      "{'manufacturer': 'Lexus', 'model': 'RX', 'color': 'silver', 'year': 2022, 'fuel_type': 'hybrid'}\n"
     ]
    }
   ],
   "source": [
    "def make_car(manufacturer, model, **car_info):\n",
    "    \"\"\"Create a dictionary describing a car.\n",
    "\n",
    "    Args:\n",
    "        manufacturer (str): The manufacturer of the car.\n",
    "        model (str): The model of the car.\n",
    "        **car_info: Additional information about the car.\n",
    "\n",
    "    Returns:\n",
    "        dict: A dictionary containing information about the car.\n",
    "\n",
    "    \"\"\"\n",
    "    car = {'manufacturer': manufacturer, 'model': model}\n",
    "    car.update(car_info)\n",
    "    return car\n",
    "\n",
    "lexus_car = make_car('Lexus', 'RX', color='silver', year=2022, fuel_type='hybrid')\n",
    "\n",
    "print(lexus_car)\n"
   ]
  },
  {
   "cell_type": "code",
   "execution_count": null,
   "metadata": {},
   "outputs": [],
   "source": []
  }
 ],
 "metadata": {
  "kernelspec": {
   "display_name": "base",
   "language": "python",
   "name": "python3"
  },
  "language_info": {
   "codemirror_mode": {
    "name": "ipython",
    "version": 3
   },
   "file_extension": ".py",
   "mimetype": "text/x-python",
   "name": "python",
   "nbconvert_exporter": "python",
   "pygments_lexer": "ipython3",
   "version": "3.9.13"
  }
 },
 "nbformat": 4,
 "nbformat_minor": 2
}
