{
 "cells": [
  {
   "cell_type": "markdown",
   "metadata": {},
   "source": [
    "# Exercise day 22"
   ]
  },
  {
   "cell_type": "code",
   "execution_count": 5,
   "metadata": {},
   "outputs": [
    {
     "name": "stdout",
     "output_type": "stream",
     "text": [
      "Data has been successfully scraped and saved as boston_data.json.\n"
     ]
    }
   ],
   "source": [
    "# exercise 1\n",
    "import requests\n",
    "from bs4 import BeautifulSoup\n",
    "import json\n",
    "\n",
    "url = 'http://www.bu.edu/president/boston-university-facts-stats/'\n",
    "\n",
    "response = requests.get(url)\n",
    "\n",
    "if response.status_code == 200:\n",
    "    soup = BeautifulSoup(response.text, 'html.parser')\n",
    "\n",
    "    paragraphs = [p.get_text() for p in soup.find_all('p')]\n",
    "\n",
    "    scraped_data = {'paragraphs': paragraphs}\n",
    "\n",
    "    with open('boston_data.json', 'w') as json_file:\n",
    "        json.dump(scraped_data, json_file, indent=2)\n",
    "\n",
    "    print('Data has been successfully scraped and saved as boston_data.json.')\n",
    "else:\n",
    "    print(f'Failed to retrieve data. Status code: {response.status_code}')\n"
   ]
  },
  {
   "cell_type": "code",
   "execution_count": 8,
   "metadata": {},
   "outputs": [
    {
     "name": "stdout",
     "output_type": "stream",
     "text": [
      "Failed to retrieve data. Status code: 404\n"
     ]
    }
   ],
   "source": [
    "# exercise 2\n",
    "import requests\n",
    "from bs4 import BeautifulSoup\n",
    "import json\n",
    "\n",
    "url = 'https://archive.ics.uci.edu/ml/datasets.php'\n",
    "\n",
    "response = requests.get(url)\n",
    "\n",
    "if response.status_code == 200:\n",
    "    soup = BeautifulSoup(response.text, 'html.parser')\n",
    "\n",
    "    table = soup.find('table')\n",
    "\n",
    "    if table:\n",
    "        table_data = []\n",
    "        headers = [header.text.strip() for header in table.find_all('th')]\n",
    "        for row in table.find_all('tr')[1:]: \n",
    "            row_data = [cell.text.strip() for cell in row.find_all('td')]\n",
    "            table_data.append(dict(zip(headers, row_data)))\n",
    "\n",
    "        with open('table_dataset.json', 'w') as json_file:\n",
    "            json.dump(table_data, json_file, indent=2)\n",
    "\n",
    "        print('Table data has been successfully extracted and saved as table_dataset.json.')\n",
    "    else:\n",
    "        print('Table not found on the webpage.')\n",
    "else:\n",
    "    print(f'Failed to retrieve data. Status code: {response.status_code}')\n",
    "\n"
   ]
  },
  {
   "cell_type": "code",
   "execution_count": 11,
   "metadata": {},
   "outputs": [
    {
     "name": "stdout",
     "output_type": "stream",
     "text": [
      "Presidents data has been successfully extracted and saved as presidents_data.json.\n"
     ]
    }
   ],
   "source": [
    "# exercise 3\n",
    "import requests\n",
    "from bs4 import BeautifulSoup\n",
    "import json\n",
    "\n",
    "url = 'https://en.wikipedia.org/wiki/List_of_presidents_of_the_United_States'\n",
    "\n",
    "response = requests.get(url)\n",
    "\n",
    "if response.status_code == 200:\n",
    "    soup = BeautifulSoup(response.text, 'html.parser')\n",
    "\n",
    "    table = soup.find('table', {'class': 'wikitable'})\n",
    "\n",
    "    if table:\n",
    "        table_data = []\n",
    "\n",
    "        for row in table.find_all('tr')[1:]:\n",
    "            columns = row.find_all(['td', 'th'])\n",
    "\n",
    "            row_data = [column.get_text(strip=True) for column in columns]\n",
    "            table_data.append(row_data)\n",
    "\n",
    "        with open('presidents_data.json', 'w') as json_file:\n",
    "            json.dump(table_data, json_file, indent=2)\n",
    "\n",
    "        print('Presidents data has been successfully extracted and saved as presidents_data.json.')\n",
    "    else:\n",
    "        print('Table not found on the webpage.')\n",
    "else:\n",
    "    print(f'Failed to retrieve data. Status code: {response.status_code}')\n"
   ]
  },
  {
   "cell_type": "code",
   "execution_count": null,
   "metadata": {},
   "outputs": [],
   "source": []
  }
 ],
 "metadata": {
  "kernelspec": {
   "display_name": "base",
   "language": "python",
   "name": "python3"
  },
  "language_info": {
   "codemirror_mode": {
    "name": "ipython",
    "version": 3
   },
   "file_extension": ".py",
   "mimetype": "text/x-python",
   "name": "python",
   "nbconvert_exporter": "python",
   "pygments_lexer": "ipython3",
   "version": "3.9.13"
  }
 },
 "nbformat": 4,
 "nbformat_minor": 2
}
