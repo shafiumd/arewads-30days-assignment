{
 "cells": [
  {
   "cell_type": "markdown",
   "metadata": {},
   "source": [
    "# Exercises - Day 7"
   ]
  },
  {
   "cell_type": "markdown",
   "metadata": {},
   "source": [
    "##### Exercises: Level 1"
   ]
  },
  {
   "cell_type": "code",
   "execution_count": 6,
   "metadata": {},
   "outputs": [
    {
     "name": "stdout",
     "output_type": "stream",
     "text": [
      "Length of it_companies: 7\n"
     ]
    }
   ],
   "source": [
    "# exercise 1\n",
    "it_companies = {'Facebook', 'Google', 'Microsoft', 'Apple', 'IBM', 'Oracle', 'Amazon'}\n",
    "length_it_companies = len(it_companies)\n",
    "print(\"Length of it_companies:\", length_it_companies)"
   ]
  },
  {
   "cell_type": "code",
   "execution_count": 7,
   "metadata": {},
   "outputs": [
    {
     "name": "stdout",
     "output_type": "stream",
     "text": [
      "After adding 'Twitter': {'Twitter', 'Apple', 'Google', 'Amazon', 'Microsoft', 'IBM', 'Oracle', 'Facebook'}\n"
     ]
    }
   ],
   "source": [
    "# exercise 2\n",
    "it_companies.add('Twitter')\n",
    "print(\"After adding 'Twitter':\", it_companies)"
   ]
  },
  {
   "cell_type": "code",
   "execution_count": 8,
   "metadata": {},
   "outputs": [
    {
     "name": "stdout",
     "output_type": "stream",
     "text": [
      "After updating with multiple companies: {'Apple', 'Google', 'Amazon', 'Twitter', 'Microsoft', 'IBM', 'LinkedIn', 'Snapchat', 'Oracle', 'Facebook'}\n"
     ]
    }
   ],
   "source": [
    "# exercise 3\n",
    "it_companies.update({'LinkedIn', 'Snapchat', 'Twitter'})\n",
    "print(\"After updating with multiple companies:\", it_companies)"
   ]
  },
  {
   "cell_type": "code",
   "execution_count": 9,
   "metadata": {},
   "outputs": [
    {
     "name": "stdout",
     "output_type": "stream",
     "text": [
      "After removing 'Snapchat': {'Apple', 'Google', 'Amazon', 'Twitter', 'Microsoft', 'IBM', 'LinkedIn', 'Oracle', 'Facebook'}\n"
     ]
    }
   ],
   "source": [
    "# exercise 4\n",
    "it_companies.remove('Snapchat')\n",
    "print(\"After removing 'Snapchat':\", it_companies)"
   ]
  },
  {
   "cell_type": "code",
   "execution_count": 5,
   "metadata": {},
   "outputs": [
    {
     "name": "stdout",
     "output_type": "stream",
     "text": [
      "After removing 'Snapchat': {'Apple', 'Google', 'Amazon', 'Twitter', 'Microsoft', 'IBM', 'LinkedIn', 'Oracle', 'Facebook'}\n"
     ]
    }
   ],
   "source": [
    "# exercise 5\n",
    "it_companies.remove('Snapchat')\n",
    "print(\"After removing 'Snapchat':\", it_companies)"
   ]
  },
  {
   "cell_type": "markdown",
   "metadata": {},
   "source": [
    "### exercise 6\n",
    "#### Difference between remove and discard:\n",
    "##### - remove(): Removes the specified element from the set. If the element is not present, it raises a KeyError.\n",
    "##### - discard(): Removes the specified element from the set. If the element is not present, it does nothing (no error)."
   ]
  },
  {
   "cell_type": "code",
   "execution_count": null,
   "metadata": {},
   "outputs": [],
   "source": []
  },
  {
   "cell_type": "markdown",
   "metadata": {},
   "source": [
    "##### Exercises: Level 2"
   ]
  },
  {
   "cell_type": "code",
   "execution_count": 19,
   "metadata": {},
   "outputs": [
    {
     "name": "stdout",
     "output_type": "stream",
     "text": [
      "Union of A and B: {19, 20, 22, 24, 25, 26, 27, 28}\n"
     ]
    }
   ],
   "source": [
    "# exercise 1\n",
    "A = {19, 22, 24, 20, 25, 26}\n",
    "B = {19, 22, 20, 25, 26, 24, 28, 27}\n",
    "union_set = A.union(B)\n",
    "print(\"Union of A and B:\", union_set)"
   ]
  },
  {
   "cell_type": "code",
   "execution_count": 20,
   "metadata": {},
   "outputs": [
    {
     "name": "stdout",
     "output_type": "stream",
     "text": [
      "Intersection of A and B: {19, 20, 22, 24, 25, 26}\n"
     ]
    }
   ],
   "source": [
    "# exercise 2\n",
    "intersection_set = A.intersection(B)\n",
    "print(\"Intersection of A and B:\", intersection_set)"
   ]
  },
  {
   "cell_type": "code",
   "execution_count": 21,
   "metadata": {},
   "outputs": [
    {
     "name": "stdout",
     "output_type": "stream",
     "text": [
      "Is A a subset of B: True\n"
     ]
    }
   ],
   "source": [
    "# exercise 3\n",
    "is_subset = A.issubset(B)\n",
    "print(\"Is A a subset of B:\", is_subset)"
   ]
  },
  {
   "cell_type": "code",
   "execution_count": 22,
   "metadata": {},
   "outputs": [
    {
     "name": "stdout",
     "output_type": "stream",
     "text": [
      "Are A and B disjoint sets: False\n"
     ]
    }
   ],
   "source": [
    "# exercise 4\n",
    "are_disjoint = A.isdisjoint(B)\n",
    "print(\"Are A and B disjoint sets:\", are_disjoint)"
   ]
  },
  {
   "cell_type": "code",
   "execution_count": 23,
   "metadata": {},
   "outputs": [
    {
     "name": "stdout",
     "output_type": "stream",
     "text": [
      "A after joining with B: {19, 20, 22, 24, 25, 26, 27, 28}\n",
      "B after joining with A: {19, 20, 22, 24, 25, 26, 27, 28}\n"
     ]
    }
   ],
   "source": [
    "# exercise 5\n",
    "A.update(B)\n",
    "B.update(A)\n",
    "print(\"A after joining with B:\", A)\n",
    "print(\"B after joining with A:\", B)"
   ]
  },
  {
   "cell_type": "code",
   "execution_count": 24,
   "metadata": {},
   "outputs": [
    {
     "name": "stdout",
     "output_type": "stream",
     "text": [
      "Symmetric difference between A and B: set()\n"
     ]
    }
   ],
   "source": [
    "# exercise 6\n",
    "symmetric_difference_set = A.symmetric_difference(B)\n",
    "print(\"Symmetric difference between A and B:\", symmetric_difference_set)"
   ]
  },
  {
   "cell_type": "code",
   "execution_count": 25,
   "metadata": {},
   "outputs": [],
   "source": [
    "# exercise 7\n",
    "del A\n",
    "del B"
   ]
  },
  {
   "cell_type": "markdown",
   "metadata": {},
   "source": [
    "##### Exercises: Level 3"
   ]
  },
  {
   "cell_type": "code",
   "execution_count": 26,
   "metadata": {},
   "outputs": [
    {
     "name": "stdout",
     "output_type": "stream",
     "text": [
      "Length of the list: 8\n",
      "Length of the set: 5\n",
      "The length of the list is bigger than the length of the set\n"
     ]
    }
   ],
   "source": [
    "# exercise 1\n",
    "ages = [22, 19, 24, 25, 26, 24, 25, 24]\n",
    "ages_set = set(ages)\n",
    "length_list = len(ages)\n",
    "length_set = len(ages_set)\n",
    "\n",
    "print(\"Length of the list:\", length_list)\n",
    "print(\"Length of the set:\", length_set)\n",
    "\n",
    "print(\"The length of the list is bigger than the length of the set\")"
   ]
  },
  {
   "cell_type": "markdown",
   "metadata": {},
   "source": [
    "### exercise 2\n",
    "#### Explanation of different data types: string, list, tuple, and set:\n",
    "##### - String: An ordered and immutable sequence of characters. Strings are used to represent text and are enclosed in single or double quotes.\n",
    "\n",
    "##### - List: An ordered and mutable collection of elements. Lists can contain elements of different data types and are defined using square brackets [].\n",
    "\n",
    "##### - Tuple: An ordered and immutable collection of elements. Tuples are similar to lists but use parentheses () for definition. Once created, a tuple cannot be modified.\n",
    "\n",
    "##### - Set: An unordered and mutable collection of unique elements. Sets are defined using curly braces {} or the set() constructor. They are commonly used to perform mathematical set operations like union, intersection, and difference."
   ]
  },
  {
   "cell_type": "code",
   "execution_count": 27,
   "metadata": {},
   "outputs": [
    {
     "name": "stdout",
     "output_type": "stream",
     "text": [
      "Number of unique words: 10\n"
     ]
    }
   ],
   "source": [
    "# exercise 3\n",
    "sentence = \"I am a teacher and I love to inspire and teach people.\"\n",
    "words = set(sentence.split())\n",
    "unique_word_count = len(words)\n",
    "print(\"Number of unique words:\", unique_word_count)"
   ]
  },
  {
   "cell_type": "code",
   "execution_count": null,
   "metadata": {},
   "outputs": [],
   "source": []
  }
 ],
 "metadata": {
  "kernelspec": {
   "display_name": "base",
   "language": "python",
   "name": "python3"
  },
  "language_info": {
   "codemirror_mode": {
    "name": "ipython",
    "version": 3
   },
   "file_extension": ".py",
   "mimetype": "text/x-python",
   "name": "python",
   "nbconvert_exporter": "python",
   "pygments_lexer": "ipython3",
   "version": "3.9.13"
  }
 },
 "nbformat": 4,
 "nbformat_minor": 2
}
