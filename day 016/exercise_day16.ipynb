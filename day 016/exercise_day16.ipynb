{
 "cells": [
  {
   "cell_type": "markdown",
   "metadata": {},
   "source": [
    "# Exercises - Day 16"
   ]
  },
  {
   "cell_type": "code",
   "execution_count": 1,
   "metadata": {},
   "outputs": [
    {
     "name": "stdout",
     "output_type": "stream",
     "text": [
      "Day: 27, Month: 12, Year: 2023, Hour: 21, Minute: 14, Timestamp: 1703708077.030419\n"
     ]
    }
   ],
   "source": [
    "# exercise 1\n",
    "from datetime import datetime\n",
    "\n",
    "now = datetime.now()\n",
    "\n",
    "day = now.day\n",
    "month = now.month\n",
    "year = now.year\n",
    "hour = now.hour\n",
    "minute = now.minute\n",
    "timestamp = now.timestamp()\n",
    "\n",
    "print(f\"Day: {day}, Month: {month}, Year: {year}, Hour: {hour}, Minute: {minute}, Timestamp: {timestamp}\")\n"
   ]
  },
  {
   "cell_type": "code",
   "execution_count": 6,
   "metadata": {},
   "outputs": [
    {
     "name": "stdout",
     "output_type": "stream",
     "text": [
      "Formatted Date: 12/27/2023, 21:14:37\n"
     ]
    }
   ],
   "source": [
    "# exercise 2\n",
    "formatted_date = now.strftime(\"%m/%d/%Y, %H:%M:%S\")\n",
    "print(f\"Formatted Date: {formatted_date}\")"
   ]
  },
  {
   "cell_type": "code",
   "execution_count": 3,
   "metadata": {},
   "outputs": [
    {
     "name": "stdout",
     "output_type": "stream",
     "text": [
      "Time Object: 2019-12-05 00:00:00\n"
     ]
    }
   ],
   "source": [
    "# exercise 3\n",
    "time_string = \"5 December, 2019\"\n",
    "time_object = datetime.strptime(time_string, \"%d %B, %Y\")\n",
    "print(f\"Time Object: {time_object}\")"
   ]
  },
  {
   "cell_type": "code",
   "execution_count": 7,
   "metadata": {},
   "outputs": [
    {
     "name": "stdout",
     "output_type": "stream",
     "text": [
      "Time Difference to New Year: 4 days, 2:45:22.969581\n"
     ]
    }
   ],
   "source": [
    "# exercise 4\n",
    "new_year = datetime(year=2024, month=1, day=1)\n",
    "time_difference_new_year = new_year - now\n",
    "print(f\"Time Difference to New Year: {time_difference_new_year}\")"
   ]
  },
  {
   "cell_type": "code",
   "execution_count": 9,
   "metadata": {},
   "outputs": [
    {
     "name": "stdout",
     "output_type": "stream",
     "text": [
      "Time Difference to Epoch: 19718 days, 21:14:37.030419\n"
     ]
    }
   ],
   "source": [
    "# exercise 5\n",
    "epoch_time = datetime.utcfromtimestamp(0)\n",
    "time_difference_epoch = now - epoch_time\n",
    "print(f\"Time Difference to Epoch: {time_difference_epoch}\")"
   ]
  },
  {
   "cell_type": "markdown",
   "metadata": {},
   "source": [
    "#### exercise 6\n",
    "\n",
    "##### Possible use cases for the datetime module:\n",
    "##### - Time series analysis: Analyzing and manipulating time-based data.\n",
    "##### - Timestamp of activities: Logging and recording the timestamp of events in an application.\n",
    "##### - Blogging: Recording and displaying the timestamp of blog posts or comments.\n",
    "\n",
    "##### The datetime module is powerful for working with dates and times in various applications, including data analysis, logging, and content management systems."
   ]
  },
  {
   "cell_type": "code",
   "execution_count": 38,
   "metadata": {},
   "outputs": [],
   "source": []
  }
 ],
 "metadata": {
  "kernelspec": {
   "display_name": "base",
   "language": "python",
   "name": "python3"
  },
  "language_info": {
   "codemirror_mode": {
    "name": "ipython",
    "version": 3
   },
   "file_extension": ".py",
   "mimetype": "text/x-python",
   "name": "python",
   "nbconvert_exporter": "python",
   "pygments_lexer": "ipython3",
   "version": "3.9.13"
  }
 },
 "nbformat": 4,
 "nbformat_minor": 2
}
