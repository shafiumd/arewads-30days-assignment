{
 "cells": [
  {
   "cell_type": "markdown",
   "metadata": {},
   "source": [
    "# Exercise day 21"
   ]
  },
  {
   "cell_type": "markdown",
   "metadata": {},
   "source": [
    "#### Exercises: Level 1"
   ]
  },
  {
   "cell_type": "code",
   "execution_count": 7,
   "metadata": {},
   "outputs": [
    {
     "name": "stdout",
     "output_type": "stream",
     "text": [
      "Count: 25\n",
      "Sum:  744\n",
      "Min:  24\n",
      "Max:  38\n",
      "Range:  14\n",
      "Mean:  29.76\n",
      "Median:  29\n",
      "Mode:  {'mode': 26, 'count': 5}\n",
      "Standard Deviation:  4.188364836066696\n",
      "Variance:  17.5424\n",
      "Frequency Distribution:  [(5, 26), (4, 27), (3, 32), (2, 37), (2, 34), (2, 33), (2, 31), (2, 24), (1, 38), (1, 29), (1, 25)]\n"
     ]
    }
   ],
   "source": [
    "# exercise 1\n",
    "class Statistics:\n",
    "    def __init__(self, data):\n",
    "        self.data = data\n",
    "\n",
    "    def count(self):\n",
    "        return len(self.data)\n",
    "\n",
    "    def sum(self):\n",
    "        return sum(self.data)\n",
    "\n",
    "    def min(self):\n",
    "        return min(self.data)\n",
    "\n",
    "    def max(self):\n",
    "        return max(self.data)\n",
    "\n",
    "    def range(self):\n",
    "        return max(self.data) - min(self.data)\n",
    "\n",
    "    def mean(self):\n",
    "        return sum(self.data) / len(self.data)\n",
    "\n",
    "    def median(self):\n",
    "        sorted_data = sorted(self.data)\n",
    "        n = len(sorted_data)\n",
    "        if n % 2 == 0:\n",
    "            return (sorted_data[n // 2 - 1] + sorted_data[n // 2]) / 2\n",
    "        else:\n",
    "            return sorted_data[n // 2]\n",
    "\n",
    "    def mode(self):\n",
    "        freq_dict = {}\n",
    "        for value in self.data:\n",
    "            freq_dict[value] = freq_dict.get(value, 0) + 1\n",
    "\n",
    "        mode_value = max(freq_dict, key=freq_dict.get)\n",
    "        return {'mode': mode_value, 'count': freq_dict[mode_value]}\n",
    "\n",
    "    def std(self):\n",
    "        mean_value = self.mean()\n",
    "        variance = sum((x - mean_value) ** 2 for x in self.data) / len(self.data)\n",
    "        return variance ** 0.5\n",
    "\n",
    "    def var(self):\n",
    "        mean_value = self.mean()\n",
    "        return sum((x - mean_value) ** 2 for x in self.data) / len(self.data)\n",
    "\n",
    "    def freq_dist(self):\n",
    "        freq_dict = {}\n",
    "        for value in self.data:\n",
    "            freq_dict[value] = freq_dict.get(value, 0) + 1\n",
    "\n",
    "        freq_list = [(count, value) for value, count in freq_dict.items()]\n",
    "        return sorted(freq_list, reverse=True)\n",
    "\n",
    "\n",
    "ages = [31, 26, 34, 37, 27, 26, 32, 32, 26, 27, 27, 24, 32, 33, 27, 25, 26, 38, 37, 31, 34, 24, 33, 29, 26]\n",
    "\n",
    "data = Statistics(ages)\n",
    "\n",
    "print('Count:', data.count())\n",
    "print('Sum: ', data.sum())\n",
    "print('Min: ', data.min())\n",
    "print('Max: ', data.max())\n",
    "print('Range: ', data.range())\n",
    "print('Mean: ', data.mean())\n",
    "print('Median: ', data.median())\n",
    "print('Mode: ', data.mode())\n",
    "print('Standard Deviation: ', data.std())\n",
    "print('Variance: ', data.var())\n",
    "print('Frequency Distribution: ', data.freq_dist())\n"
   ]
  },
  {
   "cell_type": "markdown",
   "metadata": {},
   "source": [
    "#### Exercises: Level 2"
   ]
  },
  {
   "cell_type": "code",
   "execution_count": 9,
   "metadata": {},
   "outputs": [
    {
     "name": "stdout",
     "output_type": "stream",
     "text": [
      "Account Information for John Doe:\n",
      "Total Income: 5200\n",
      "Total Expense: 1700\n",
      "Account Balance: 3500\n",
      "Incomes:\n",
      "  - Salary: 5000\n",
      "  - Bonus: 200\n",
      "Expenses:\n",
      "  - Groceries: 200\n",
      "  - Rent: 1500\n",
      "\n"
     ]
    }
   ],
   "source": [
    "# exercise 1\n",
    "class PersonAccount:\n",
    "    def __init__(self, firstname, lastname):\n",
    "        self.firstname = firstname\n",
    "        self.lastname = lastname\n",
    "        self.incomes = set()\n",
    "        self.expenses = set()\n",
    "\n",
    "    def add_income(self, amount, description):\n",
    "        self.incomes.add((amount, description))\n",
    "\n",
    "    def add_expense(self, amount, description):\n",
    "        self.expenses.add((amount, description))\n",
    "\n",
    "    def total_income(self):\n",
    "        return sum(amount for amount, _ in self.incomes)\n",
    "\n",
    "    def total_expense(self):\n",
    "        return sum(amount for amount, _ in self.expenses)\n",
    "\n",
    "    def account_balance(self):\n",
    "        return self.total_income() - self.total_expense()\n",
    "\n",
    "    def account_info(self):\n",
    "        info = f\"Account Information for {self.firstname} {self.lastname}:\\n\"\n",
    "        info += f\"Total Income: {self.total_income()}\\n\"\n",
    "        info += f\"Total Expense: {self.total_expense()}\\n\"\n",
    "        info += f\"Account Balance: {self.account_balance()}\\n\"\n",
    "        info += \"Incomes:\\n\"\n",
    "        for amount, description in self.incomes:\n",
    "            info += f\"  - {description}: {amount}\\n\"\n",
    "        info += \"Expenses:\\n\"\n",
    "        for amount, description in self.expenses:\n",
    "            info += f\"  - {description}: {amount}\\n\"\n",
    "        return info\n",
    "\n",
    "\n",
    "# Example usage:\n",
    "person = PersonAccount(\"John\", \"Doe\")\n",
    "person.add_income(5000, \"Salary\")\n",
    "person.add_income(200, \"Bonus\")\n",
    "person.add_expense(1500, \"Rent\")\n",
    "person.add_expense(200, \"Groceries\")\n",
    "\n",
    "print(person.account_info())\n"
   ]
  },
  {
   "cell_type": "code",
   "execution_count": null,
   "metadata": {},
   "outputs": [],
   "source": []
  }
 ],
 "metadata": {
  "kernelspec": {
   "display_name": "base",
   "language": "python",
   "name": "python3"
  },
  "language_info": {
   "codemirror_mode": {
    "name": "ipython",
    "version": 3
   },
   "file_extension": ".py",
   "mimetype": "text/x-python",
   "name": "python",
   "nbconvert_exporter": "python",
   "pygments_lexer": "ipython3",
   "version": "3.9.13"
  }
 },
 "nbformat": 4,
 "nbformat_minor": 2
}
