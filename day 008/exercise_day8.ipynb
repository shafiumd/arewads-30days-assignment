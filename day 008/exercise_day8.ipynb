{
 "cells": [
  {
   "cell_type": "markdown",
   "metadata": {},
   "source": [
    "# Exercises - Day 8"
   ]
  },
  {
   "cell_type": "code",
   "execution_count": 17,
   "metadata": {},
   "outputs": [],
   "source": [
    "# exercise 1\n",
    "dog = {}"
   ]
  },
  {
   "cell_type": "code",
   "execution_count": 19,
   "metadata": {},
   "outputs": [
    {
     "name": "stdout",
     "output_type": "stream",
     "text": [
      "{'name': 'Buddy', 'color': 'Brown', 'breed': 'Labrador', 'legs': 4, 'age': 3}\n"
     ]
    }
   ],
   "source": [
    "# exercise 2\n",
    "dog['name'] = 'Buddy'\n",
    "dog['color'] = 'Brown'\n",
    "dog['breed'] = 'Labrador'\n",
    "dog['legs'] = 4\n",
    "dog['age'] = 3\n",
    "print(dog)"
   ]
  },
  {
   "cell_type": "code",
   "execution_count": 30,
   "metadata": {},
   "outputs": [],
   "source": [
    "# exercise 3\n",
    "student = {\n",
    "    'first_name': 'Shafiu',\n",
    "    'last_name': 'Muhammad',\n",
    "    'gender': 'Male',\n",
    "    'age': 35,\n",
    "    'marital_status': 'Single',\n",
    "    'skills': ['Python', 'HTML', 'JavaScript', 'SQL','php'],\n",
    "    'country': 'Nigeria',\n",
    "    'city': 'Zaria',\n",
    "    'address': 'Kaduna State'\n",
    "}"
   ]
  },
  {
   "cell_type": "code",
   "execution_count": 31,
   "metadata": {},
   "outputs": [
    {
     "name": "stdout",
     "output_type": "stream",
     "text": [
      "Length of the student dictionary: 9\n"
     ]
    }
   ],
   "source": [
    "# exercise 4\n",
    "length_student = len(student)\n",
    "print(\"Length of the student dictionary:\", length_student)"
   ]
  },
  {
   "cell_type": "code",
   "execution_count": 32,
   "metadata": {},
   "outputs": [
    {
     "name": "stdout",
     "output_type": "stream",
     "text": [
      "Skills: ['Python', 'HTML', 'JavaScript', 'SQL', 'php']\n",
      "Data type of skills: <class 'list'>\n"
     ]
    }
   ],
   "source": [
    "# exercise 5\n",
    "skills_value = student['skills']\n",
    "print(\"Skills:\", skills_value)\n",
    "print(\"Data type of skills:\", type(skills_value))"
   ]
  },
  {
   "cell_type": "code",
   "execution_count": 33,
   "metadata": {},
   "outputs": [
    {
     "name": "stdout",
     "output_type": "stream",
     "text": [
      "Skills: ['Python', 'HTML', 'JavaScript', 'SQL', 'php', 'React', 'Django']\n"
     ]
    }
   ],
   "source": [
    "# exercise 6\n",
    "student['skills'].extend(['React', 'Django'])\n",
    "print(\"Skills:\", skills_value)"
   ]
  },
  {
   "cell_type": "code",
   "execution_count": 34,
   "metadata": {},
   "outputs": [
    {
     "name": "stdout",
     "output_type": "stream",
     "text": [
      "Keys as a list: ['first_name', 'last_name', 'gender', 'age', 'marital_status', 'skills', 'country', 'city', 'address']\n"
     ]
    }
   ],
   "source": [
    "# exercise 7\n",
    "keys_list = list(student.keys())\n",
    "print(\"Keys as a list:\", keys_list)"
   ]
  },
  {
   "cell_type": "code",
   "execution_count": 35,
   "metadata": {},
   "outputs": [
    {
     "name": "stdout",
     "output_type": "stream",
     "text": [
      "Values as a list: ['Shafiu', 'Muhammad', 'Male', 35, 'Single', ['Python', 'HTML', 'JavaScript', 'SQL', 'php', 'React', 'Django'], 'Nigeria', 'Zaria', 'Kaduna State']\n"
     ]
    }
   ],
   "source": [
    "# exercise 8\n",
    "values_list = list(student.values())\n",
    "print(\"Values as a list:\", values_list)"
   ]
  },
  {
   "cell_type": "code",
   "execution_count": 36,
   "metadata": {},
   "outputs": [
    {
     "name": "stdout",
     "output_type": "stream",
     "text": [
      "Items as a list of tuples: [('first_name', 'Shafiu'), ('last_name', 'Muhammad'), ('gender', 'Male'), ('age', 35), ('marital_status', 'Single'), ('skills', ['Python', 'HTML', 'JavaScript', 'SQL', 'php', 'React', 'Django']), ('country', 'Nigeria'), ('city', 'Zaria'), ('address', 'Kaduna State')]\n"
     ]
    }
   ],
   "source": [
    "# exercise 9\n",
    "items_list = list(student.items())\n",
    "print(\"Items as a list of tuples:\", items_list)"
   ]
  },
  {
   "cell_type": "code",
   "execution_count": 37,
   "metadata": {},
   "outputs": [
    {
     "name": "stdout",
     "output_type": "stream",
     "text": [
      "Modified student dictionary after deletion: {'first_name': 'Shafiu', 'last_name': 'Muhammad', 'gender': 'Male', 'age': 35, 'skills': ['Python', 'HTML', 'JavaScript', 'SQL', 'php', 'React', 'Django'], 'country': 'Nigeria', 'city': 'Zaria', 'address': 'Kaduna State'}\n"
     ]
    }
   ],
   "source": [
    "# exercise 10\n",
    "del student['marital_status']\n",
    "print(\"Modified student dictionary after deletion:\", student)"
   ]
  },
  {
   "cell_type": "code",
   "execution_count": 38,
   "metadata": {},
   "outputs": [],
   "source": [
    "# exercise 11\n",
    "del dog"
   ]
  }
 ],
 "metadata": {
  "kernelspec": {
   "display_name": "base",
   "language": "python",
   "name": "python3"
  },
  "language_info": {
   "codemirror_mode": {
    "name": "ipython",
    "version": 3
   },
   "file_extension": ".py",
   "mimetype": "text/x-python",
   "name": "python",
   "nbconvert_exporter": "python",
   "pygments_lexer": "ipython3",
   "version": "3.9.13"
  }
 },
 "nbformat": 4,
 "nbformat_minor": 2
}
