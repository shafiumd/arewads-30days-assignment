{
 "cells": [
  {
   "cell_type": "markdown",
   "metadata": {},
   "source": [
    "# Exercises - Day 17"
   ]
  },
  {
   "cell_type": "code",
   "execution_count": 11,
   "metadata": {},
   "outputs": [
    {
     "name": "stdout",
     "output_type": "stream",
     "text": [
      "Nordic Countries: ('Finland', 'Sweden', 'Norway', 'Denmark', 'Iceland')\n",
      "Estonia: Estonia\n",
      "Russia: Russia\n"
     ]
    }
   ],
   "source": [
    "names = ['Finland', 'Sweden', 'Norway', 'Denmark', 'Iceland', 'Estonia', 'Russia']\n",
    "\n",
    "# Unpack the first five countries and store them in a variable nordic_countries\n",
    "nordic_countries = (*names[:5],)\n",
    "\n",
    "es, ru = (*names[5:7],)\n",
    "\n",
    "print(\"Nordic Countries:\", nordic_countries)\n",
    "print(\"Estonia:\", es)\n",
    "print(\"Russia:\", ru)\n"
   ]
  },
  {
   "cell_type": "code",
   "execution_count": null,
   "metadata": {},
   "outputs": [],
   "source": []
  }
 ],
 "metadata": {
  "kernelspec": {
   "display_name": "base",
   "language": "python",
   "name": "python3"
  },
  "language_info": {
   "codemirror_mode": {
    "name": "ipython",
    "version": 3
   },
   "file_extension": ".py",
   "mimetype": "text/x-python",
   "name": "python",
   "nbconvert_exporter": "python",
   "pygments_lexer": "ipython3",
   "version": "3.9.13"
  }
 },
 "nbformat": 4,
 "nbformat_minor": 2
}
