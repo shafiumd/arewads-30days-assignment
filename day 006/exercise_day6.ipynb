{
 "cells": [
  {
   "cell_type": "markdown",
   "metadata": {},
   "source": [
    "# Exercises - Day 6"
   ]
  },
  {
   "cell_type": "markdown",
   "metadata": {},
   "source": [
    "##### Exercises: Level 1"
   ]
  },
  {
   "cell_type": "code",
   "execution_count": 1,
   "metadata": {},
   "outputs": [],
   "source": [
    "# exercise 1\n",
    "empty_tuple = ()"
   ]
  },
  {
   "cell_type": "code",
   "execution_count": 2,
   "metadata": {},
   "outputs": [],
   "source": [
    "# exercise 2\n",
    "sisters = ('Alice', 'Bobette', 'Carolyn')\n",
    "brothers = ('David', 'Edward', 'Frank')"
   ]
  },
  {
   "cell_type": "code",
   "execution_count": 7,
   "metadata": {},
   "outputs": [
    {
     "name": "stdout",
     "output_type": "stream",
     "text": [
      "('David', 'Edward', 'Frank', 'Alice', 'Bobette', 'Carolyn')\n"
     ]
    }
   ],
   "source": [
    "# exercise 3\n",
    "siblings = brothers + sisters\n",
    "print(siblings)"
   ]
  },
  {
   "cell_type": "code",
   "execution_count": 8,
   "metadata": {},
   "outputs": [
    {
     "name": "stdout",
     "output_type": "stream",
     "text": [
      "6\n"
     ]
    }
   ],
   "source": [
    "# exercise 4\n",
    "num_siblings = len(siblings)\n",
    "print(num_siblings)"
   ]
  },
  {
   "cell_type": "code",
   "execution_count": 10,
   "metadata": {},
   "outputs": [
    {
     "name": "stdout",
     "output_type": "stream",
     "text": [
      "('David', 'Edward', 'Frank', 'Alice', 'Bobette', 'Carolyn', 'FatherName', 'MotherName')\n"
     ]
    }
   ],
   "source": [
    "# exercise 5\n",
    "father_and_mother = ('FatherName', 'MotherName')\n",
    "family_members = siblings + father_and_mother\n",
    "print(family_members)"
   ]
  },
  {
   "cell_type": "markdown",
   "metadata": {},
   "source": [
    "##### Exercises: Level 2"
   ]
  },
  {
   "cell_type": "code",
   "execution_count": 18,
   "metadata": {},
   "outputs": [
    {
     "name": "stdout",
     "output_type": "stream",
     "text": [
      "('David', 'Edward', 'Frank', 'Alice', 'Bobette', 'Carolyn', 'FatherName', 'MotherName')\n"
     ]
    }
   ],
   "source": [
    "# exercise 1\n",
    "(*siblings, father, mother) = family_members"
   ]
  },
  {
   "cell_type": "code",
   "execution_count": 21,
   "metadata": {},
   "outputs": [
    {
     "name": "stdout",
     "output_type": "stream",
     "text": [
      "('apple', 'banana', 'orange', 'carrot', 'broccoli', 'spinach', 'milk', 'eggs', 'chicken')\n"
     ]
    }
   ],
   "source": [
    "# exercise 2\n",
    "fruits = ('apple', 'banana', 'orange')\n",
    "vegetables = ('carrot', 'broccoli', 'spinach')\n",
    "animal_products = ('milk', 'eggs', 'chicken')\n",
    "\n",
    "food_stuff_tp = fruits + vegetables + animal_products\n",
    "print(food_stuff_tp)"
   ]
  },
  {
   "cell_type": "code",
   "execution_count": 22,
   "metadata": {},
   "outputs": [
    {
     "name": "stdout",
     "output_type": "stream",
     "text": [
      "['apple', 'banana', 'orange', 'carrot', 'broccoli', 'spinach', 'milk', 'eggs', 'chicken']\n"
     ]
    }
   ],
   "source": [
    "# exercise 3\n",
    "food_stuff_lt = list(food_stuff_tp)\n",
    "print(food_stuff_lt)"
   ]
  },
  {
   "cell_type": "code",
   "execution_count": 23,
   "metadata": {},
   "outputs": [
    {
     "name": "stdout",
     "output_type": "stream",
     "text": [
      "broccoli\n"
     ]
    }
   ],
   "source": [
    "# exercise 4\n",
    "middle_item = food_stuff_lt[len(food_stuff_lt) // 2]\n",
    "print(middle_item)"
   ]
  },
  {
   "cell_type": "code",
   "execution_count": 24,
   "metadata": {},
   "outputs": [
    {
     "name": "stdout",
     "output_type": "stream",
     "text": [
      "['apple', 'banana', 'orange']\n",
      "['milk', 'eggs', 'chicken']\n"
     ]
    }
   ],
   "source": [
    "# exercise 5\n",
    "first_three_items = food_stuff_lt[:3]\n",
    "last_three_items = food_stuff_lt[-3:]\n",
    "print(first_three_items)\n",
    "print(last_three_items)"
   ]
  },
  {
   "cell_type": "code",
   "execution_count": 25,
   "metadata": {},
   "outputs": [],
   "source": [
    "# exercise 6\n",
    "del food_stuff_tp"
   ]
  },
  {
   "cell_type": "code",
   "execution_count": 29,
   "metadata": {},
   "outputs": [
    {
     "name": "stdout",
     "output_type": "stream",
     "text": [
      "False\n",
      "True\n"
     ]
    }
   ],
   "source": [
    "# exercise 7\n",
    "nordic_countries = ('Denmark', 'Finland', 'Iceland', 'Norway', 'Sweden')\n",
    "\n",
    "estonia_is_nordic = 'Estonia' in nordic_countries\n",
    "print(estonia_is_nordic)\n",
    "\n",
    "iceland_is_nordic = 'Iceland' in nordic_countries\n",
    "print(iceland_is_nordic)"
   ]
  },
  {
   "cell_type": "code",
   "execution_count": null,
   "metadata": {},
   "outputs": [],
   "source": []
  }
 ],
 "metadata": {
  "kernelspec": {
   "display_name": "base",
   "language": "python",
   "name": "python3"
  },
  "language_info": {
   "codemirror_mode": {
    "name": "ipython",
    "version": 3
   },
   "file_extension": ".py",
   "mimetype": "text/x-python",
   "name": "python",
   "nbconvert_exporter": "python",
   "pygments_lexer": "ipython3",
   "version": "3.9.13"
  }
 },
 "nbformat": 4,
 "nbformat_minor": 2
}
