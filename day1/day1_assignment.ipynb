{
 "cells": [
  {
   "cell_type": "markdown",
   "metadata": {},
   "source": [
    "# Day1 Assignment"
   ]
  },
  {
   "cell_type": "markdown",
   "metadata": {},
   "source": [
    "##### Exercise: Level 1"
   ]
  },
  {
   "cell_type": "markdown",
   "metadata": {},
   "source": [
    "##### Exercise: Level 2"
   ]
  },
  {
   "cell_type": "code",
   "execution_count": 7,
   "metadata": {},
   "outputs": [
    {
     "name": "stdout",
     "output_type": "stream",
     "text": [
      "Python 3.9.13\n"
     ]
    }
   ],
   "source": [
    "# exercise 1\n",
    "\n",
    "!python --version"
   ]
  },
  {
   "cell_type": "code",
   "execution_count": 10,
   "metadata": {},
   "outputs": [
    {
     "name": "stdout",
     "output_type": "stream",
     "text": [
      "7\n",
      "-1\n",
      "12\n",
      "3\n",
      "0.75\n",
      "81\n",
      "0\n"
     ]
    }
   ],
   "source": [
    "# exercise 2\n",
    "print(3+4)\n",
    "print(3-4)\n",
    "print(3*4)\n",
    "print(3%4)\n",
    "print(3/4)\n",
    "print(3**4)\n",
    "print(3//4)"
   ]
  },
  {
   "cell_type": "code",
   "execution_count": 9,
   "metadata": {},
   "outputs": [
    {
     "name": "stdout",
     "output_type": "stream",
     "text": [
      "Shafiu\n",
      "Muhammad\n",
      "Nigeria\n",
      "I an enjoying 30 days of python\n"
     ]
    }
   ],
   "source": [
    "# exercise 3\n",
    "print(\"Shafiu\")\n",
    "print(\"Muhammad\")\n",
    "print(\"Nigeria\")\n",
    "print(\"I an enjoying 30 days of python\")"
   ]
  },
  {
   "cell_type": "code",
   "execution_count": 12,
   "metadata": {},
   "outputs": [
    {
     "name": "stdout",
     "output_type": "stream",
     "text": [
      "<class 'int'>\n",
      "<class 'float'>\n",
      "<class 'float'>\n",
      "<class 'complex'>\n",
      "<class 'list'>\n",
      "<class 'str'>\n",
      "<class 'str'>\n",
      "<class 'str'>\n"
     ]
    }
   ],
   "source": [
    "print(type(10))\n",
    "print(type(9.8))\n",
    "print(type(3.14))\n",
    "print(type(4-4j))\n",
    "print(type(['Asabeneh','Python','Finland']))\n",
    "print(type('Shafiu'))\n",
    "print(type(\"Muhammad\"))\n",
    "print(type(\"Nigeria\"))\n"
   ]
  },
  {
   "cell_type": "markdown",
   "metadata": {},
   "source": [
    "##### Exercise: Level 3"
   ]
  },
  {
   "cell_type": "code",
   "execution_count": 15,
   "metadata": {},
   "outputs": [
    {
     "name": "stdout",
     "output_type": "stream",
     "text": [
      "42\n",
      "3.14\n",
      "(2+3j)\n",
      "My first exercise in ArewaDS\n",
      "True\n",
      "[1, 2, 3, 4, 5]\n",
      "(10, 20, 30)\n",
      "{1, 2, 3, 4, 5}\n",
      "{'name': 'Shafiu', 'family_name': 'Muhammad', 'my_country': 'Nigeria'}\n"
     ]
    }
   ],
   "source": [
    "# exercise 1\n",
    "\n",
    "\n",
    "# integer_number\n",
    "print(42)\n",
    "\n",
    "# float_number\n",
    "print(3.14)\n",
    "\n",
    "#complex_number\n",
    "print(2+3J)\n",
    "\n",
    "#String\n",
    "print(\"My first exercise in ArewaDS\")\n",
    "\n",
    "# boolean\n",
    "print(True)\n",
    "\n",
    "# List\n",
    "print([1,2,3,4,5])\n",
    "\n",
    "# Tuple\n",
    "print((10,20,30))\n",
    "\n",
    "# Set\n",
    "print({1,2,3,4,5})\n",
    "\n",
    "# Dictionary\n",
    "print({'name': 'Shafiu', 'family_name': 'Muhammad', 'my_country': 'Nigeria'})\n"
   ]
  },
  {
   "cell_type": "code",
   "execution_count": 16,
   "metadata": {},
   "outputs": [
    {
     "name": "stdout",
     "output_type": "stream",
     "text": [
      "Euclidean distance between (2, 3) and (10, 8) is: 9.433981132056603\n"
     ]
    }
   ],
   "source": [
    "# exercise 2\n",
    "\n",
    "import math\n",
    "\n",
    "point1 = (2, 3)\n",
    "point2 = (10, 8)\n",
    "\n",
    "distance = math.sqrt((point2[0] - point1[0]) ** 2 + (point2[1] - point1[1]) ** 2)\n",
    "\n",
    "print(\"Euclidean distance between\", point1, \"and\", point2, \"is:\", distance)\n"
   ]
  },
  {
   "cell_type": "code",
   "execution_count": null,
   "metadata": {},
   "outputs": [],
   "source": []
  }
 ],
 "metadata": {
  "kernelspec": {
   "display_name": "base",
   "language": "python",
   "name": "python3"
  },
  "language_info": {
   "codemirror_mode": {
    "name": "ipython",
    "version": 3
   },
   "file_extension": ".py",
   "mimetype": "text/x-python",
   "name": "python",
   "nbconvert_exporter": "python",
   "pygments_lexer": "ipython3",
   "version": "3.9.13"
  }
 },
 "nbformat": 4,
 "nbformat_minor": 2
}
