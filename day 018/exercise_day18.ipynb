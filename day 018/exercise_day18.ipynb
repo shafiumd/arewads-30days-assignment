{
 "cells": [
  {
   "cell_type": "markdown",
   "metadata": {},
   "source": [
    "# Exercise day 18"
   ]
  },
  {
   "cell_type": "markdown",
   "metadata": {},
   "source": [
    "#### Exercises: Level 1"
   ]
  },
  {
   "cell_type": "code",
   "execution_count": 3,
   "metadata": {},
   "outputs": [
    {
     "name": "stdout",
     "output_type": "stream",
     "text": [
      "[('love', 6), ('you', 5), ('can', 3), ('I', 2), ('teaching', 2), ('do', 2), ('not', 2), ('what', 2), ('else', 2), ('If', 1), ('Python', 1), ('if', 1), ('something', 1), ('which', 1), ('give', 1), ('all', 1), ('the', 1), ('capabilities', 1), ('to', 1), ('develop', 1), ('an', 1), ('application', 1)]\n"
     ]
    }
   ],
   "source": [
    "# exercise 1\n",
    "from collections import Counter\n",
    "import re\n",
    "\n",
    "paragraph = 'I love teaching. If you do not love teaching what else can you love. I love Python if you do not love something which can give you all the capabilities to develop an application what else can you love.'\n",
    "\n",
    "words = re.findall(r'\\b\\w+\\b', paragraph)\n",
    "\n",
    "word_counts = Counter(words)\n",
    "\n",
    "most_common_words = word_counts.most_common()\n",
    "\n",
    "print(most_common_words)\n"
   ]
  },
  {
   "cell_type": "code",
   "execution_count": 7,
   "metadata": {},
   "outputs": [
    {
     "name": "stdout",
     "output_type": "stream",
     "text": [
      "points =  ['-12', '-4', '-3', '-1', '0', '4', '8']\n",
      "sorted_points =  [-12, -4, -3, -1, 0, 4, 8]\n",
      "distance =  20\n"
     ]
    }
   ],
   "source": [
    "# exercise 2\n",
    "points = ['-12', '-4', '-3', '-1', '0', '4', '8']\n",
    "\n",
    "int_points = [int(point) for point in points]\n",
    "\n",
    "sorted_points = sorted(int_points)\n",
    "\n",
    "distance = sorted_points[-1] - sorted_points[0]\n",
    "\n",
    "print(\"points = \", points)\n",
    "print(\"sorted_points = \", sorted_points)\n",
    "print(\"distance = \", distance)\n"
   ]
  },
  {
   "cell_type": "markdown",
   "metadata": {},
   "source": [
    "#### Exercises: Level 2"
   ]
  },
  {
   "cell_type": "code",
   "execution_count": 8,
   "metadata": {},
   "outputs": [
    {
     "name": "stdout",
     "output_type": "stream",
     "text": [
      "True\n",
      "False\n",
      "False\n",
      "True\n"
     ]
    }
   ],
   "source": [
    "# exercise 1\n",
    "import re\n",
    "\n",
    "def is_valid_variable(variable_name):\n",
    "    pattern = re.compile(r'^[a-zA-Z_]\\w*$')\n",
    "    return bool(pattern.match(variable_name))\n",
    "\n",
    "# Test cases\n",
    "print(is_valid_variable('first_name'))   # True\n",
    "print(is_valid_variable('first-name'))   # False\n",
    "print(is_valid_variable('1first_name'))  # False\n",
    "print(is_valid_variable('firstname'))    # True\n"
   ]
  },
  {
   "cell_type": "markdown",
   "metadata": {},
   "source": [
    "#### Exercises: Level 3"
   ]
  },
  {
   "cell_type": "code",
   "execution_count": 14,
   "metadata": {},
   "outputs": [
    {
     "name": "stdout",
     "output_type": "stream",
     "text": [
      "I am a teacher and I love teaching There is nothing as more rewarding as educating and empowering people I found teaching more interesting than any other jobs Does this motivate you to be a teacher\n",
      "[('I', 3), ('a', 2), ('teacher', 2)]\n"
     ]
    }
   ],
   "source": [
    "# exercise 1\n",
    "import re\n",
    "from collections import Counter\n",
    "\n",
    "def clean_text(text):\n",
    "    cleaned_text = re.sub(r'[^a-zA-Z\\s]', '', text)\n",
    "    return cleaned_text\n",
    "\n",
    "def most_frequent_words(text):\n",
    "    words = text.split()\n",
    "    word_counts = Counter(words)\n",
    "    most_common_words = word_counts.most_common(3)\n",
    "    return most_common_words\n",
    "\n",
    "sentence = '''%I $am@% a %tea@cher%, &and& I lo%#ve %tea@ching%;. There $is nothing; &as& mo@re rewarding as educa@ting &and& @emp%o@wering peo@ple. ;I found tea@ching m%o@re interesting tha@n any other %jo@bs. %Do@es thi%s mo@tivate yo@u to be a tea@cher!?'''\n",
    "\n",
    "print(clean_text(sentence))\n",
    "\n",
    "cleaned_text = clean_text(sentence)\n",
    "print(most_frequent_words(cleaned_text))\n"
   ]
  },
  {
   "cell_type": "code",
   "execution_count": null,
   "metadata": {},
   "outputs": [],
   "source": []
  }
 ],
 "metadata": {
  "kernelspec": {
   "display_name": "base",
   "language": "python",
   "name": "python3"
  },
  "language_info": {
   "codemirror_mode": {
    "name": "ipython",
    "version": 3
   },
   "file_extension": ".py",
   "mimetype": "text/x-python",
   "name": "python",
   "nbconvert_exporter": "python",
   "pygments_lexer": "ipython3",
   "version": "3.9.13"
  }
 },
 "nbformat": 4,
 "nbformat_minor": 2
}
