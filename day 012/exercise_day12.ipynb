{
 "cells": [
  {
   "cell_type": "markdown",
   "metadata": {},
   "source": [
    "# Exercises - Day 12"
   ]
  },
  {
   "cell_type": "markdown",
   "metadata": {},
   "source": [
    "##### Exercises: Level 1"
   ]
  },
  {
   "cell_type": "code",
   "execution_count": 4,
   "metadata": {},
   "outputs": [
    {
     "name": "stdout",
     "output_type": "stream",
     "text": [
      "iime6e\n"
     ]
    }
   ],
   "source": [
    "# exercise 1\n",
    "import random\n",
    "import string\n",
    "\n",
    "def random_user_id():\n",
    "    return ''.join(random.choice(string.ascii_lowercase + string.digits) for _ in range(6))\n",
    "\n",
    "# Test\n",
    "print(random_user_id())\n"
   ]
  },
  {
   "cell_type": "code",
   "execution_count": 7,
   "metadata": {},
   "outputs": [
    {
     "name": "stdout",
     "output_type": "stream",
     "text": [
      "GIfhc\n",
      "a509t\n",
      "4CnXB\n",
      "37IKf\n",
      "BSMq0\n"
     ]
    }
   ],
   "source": [
    "# exercise 2\n",
    "def user_id_gen_by_user():\n",
    "    num_chars, num_ids = map(int, input(\"Enter number of characters and number of IDs (separated by space): \").split())\n",
    "    user_ids = []\n",
    "    for _ in range(num_ids):\n",
    "        user_ids.append(''.join(random.choice(string.ascii_letters + string.digits) for _ in range(num_chars)))\n",
    "    return user_ids\n",
    "\n",
    "# Test\n",
    "result = user_id_gen_by_user()\n",
    "for user_id in result:\n",
    "    print(user_id)\n"
   ]
  },
  {
   "cell_type": "code",
   "execution_count": 8,
   "metadata": {},
   "outputs": [
    {
     "name": "stdout",
     "output_type": "stream",
     "text": [
      "Fz2WQWrpsc4XB95j\n",
      "cn6WTjq5Ndw3kJmA\n",
      "7sa3gDEz0hHN6qBt\n",
      "nkogtqsrlv6HWfRp\n",
      "PxscQCTD1bl55luO\n"
     ]
    }
   ],
   "source": [
    "# exercise 2\n",
    "def user_id_gen_by_user():\n",
    "    num_chars, num_ids = map(int, input(\"Enter number of characters and number of IDs (separated by space): \").split())\n",
    "    user_ids = []\n",
    "    for _ in range(num_ids):\n",
    "        user_ids.append(''.join(random.choice(string.ascii_letters + string.digits) for _ in range(num_chars)))\n",
    "    return user_ids\n",
    "\n",
    "# Test\n",
    "result = user_id_gen_by_user()\n",
    "for user_id in result:\n",
    "    print(user_id)\n"
   ]
  },
  {
   "cell_type": "code",
   "execution_count": 11,
   "metadata": {},
   "outputs": [
    {
     "name": "stdout",
     "output_type": "stream",
     "text": [
      "rgb(151,113,67)\n"
     ]
    }
   ],
   "source": [
    "# exercise 3\n",
    "def rgb_color_gen():\n",
    "    r = random.randint(0, 255)\n",
    "    g = random.randint(0, 255)\n",
    "    b = random.randint(0, 255)\n",
    "    return f\"rgb({r},{g},{b})\"\n",
    "\n",
    "# Test\n",
    "print(rgb_color_gen())\n"
   ]
  },
  {
   "cell_type": "markdown",
   "metadata": {},
   "source": [
    "##### Exercises: Level 2"
   ]
  },
  {
   "cell_type": "code",
   "execution_count": 12,
   "metadata": {},
   "outputs": [
    {
     "name": "stdout",
     "output_type": "stream",
     "text": [
      "['#f16003', '#d18733', '#df1591']\n"
     ]
    }
   ],
   "source": [
    "# exercise 1\n",
    "import random\n",
    "\n",
    "def list_of_hexa_colors(num_colors):\n",
    "    hex_colors = ['#' + ''.join(random.choice('0123456789abcdef') for _ in range(6)) for _ in range(num_colors)]\n",
    "    return hex_colors\n",
    "\n",
    "# Test\n",
    "print(list_of_hexa_colors(3))\n",
    "\n"
   ]
  },
  {
   "cell_type": "code",
   "execution_count": 15,
   "metadata": {},
   "outputs": [
    {
     "name": "stdout",
     "output_type": "stream",
     "text": [
      "['rgb(187,110,123)', 'rgb(103,110,249)', 'rgb(164,129,83)']\n"
     ]
    }
   ],
   "source": [
    "# exercise 2\n",
    "def list_of_rgb_colors(num_colors):\n",
    "    rgb_colors = [f'rgb({random.randint(0, 255)},{random.randint(0, 255)},{random.randint(0, 255)})' for _ in range(num_colors)]\n",
    "    return rgb_colors\n",
    "\n",
    "print(list_of_rgb_colors(3))\n",
    "\n"
   ]
  },
  {
   "cell_type": "code",
   "execution_count": 16,
   "metadata": {},
   "outputs": [
    {
     "name": "stdout",
     "output_type": "stream",
     "text": [
      "['#6546a3', '#06c8ef', '#fb55e1']\n",
      "['#03f0f4']\n",
      "['rgb(97,21,248)', 'rgb(61,109,72)', 'rgb(185,63,108)']\n",
      "['rgb(238,146,29)']\n"
     ]
    }
   ],
   "source": [
    "# exercise 3\n",
    "def generate_colors(color_type, num_colors):\n",
    "    if color_type == 'hexa':\n",
    "        return list_of_hexa_colors(num_colors)\n",
    "    elif color_type == 'rgb':\n",
    "        return list_of_rgb_colors(num_colors)\n",
    "    else:\n",
    "        return []\n",
    "\n",
    "# Test\n",
    "print(generate_colors('hexa', 3))  # ['#a3e12f', '#03ed55', '#eb3d2b']\n",
    "print(generate_colors('hexa', 1))  # ['#b334ef']\n",
    "print(generate_colors('rgb', 3))   # ['rgb(5, 55, 175)', 'rgb(50, 105, 100)', 'rgb(15, 26, 80)']\n",
    "print(generate_colors('rgb', 1))   # ['rgb(33, 79, 176)']\n"
   ]
  },
  {
   "cell_type": "markdown",
   "metadata": {},
   "source": [
    "##### Exercises: Level 3"
   ]
  },
  {
   "cell_type": "code",
   "execution_count": 17,
   "metadata": {},
   "outputs": [
    {
     "name": "stdout",
     "output_type": "stream",
     "text": [
      "[5, 1, 2, 4, 3]\n"
     ]
    }
   ],
   "source": [
    "# exercise 1\n",
    "import random\n",
    "\n",
    "def shuffle_list(input_list):\n",
    "    shuffled_list = input_list.copy()\n",
    "    random.shuffle(shuffled_list)\n",
    "    return shuffled_list\n",
    "\n",
    "original_list = [1, 2, 3, 4, 5]\n",
    "shuffled_result = shuffle_list(original_list)\n",
    "print(shuffled_result)\n"
   ]
  },
  {
   "cell_type": "code",
   "execution_count": 19,
   "metadata": {},
   "outputs": [
    {
     "name": "stdout",
     "output_type": "stream",
     "text": [
      "[3, 8, 6, 9, 7, 5, 0]\n"
     ]
    }
   ],
   "source": [
    "# exercise 2\n",
    "def seven_unique_random_numbers():\n",
    "    if not (0 <= 7 <= 9):\n",
    "        raise ValueError(\"The range should be between 0 and 9 (inclusive).\")\n",
    "\n",
    "    unique_numbers = random.sample(range(10), 7)\n",
    "    return unique_numbers\n",
    "\n",
    "random_numbers = seven_unique_random_numbers()\n",
    "print(random_numbers)\n"
   ]
  },
  {
   "cell_type": "code",
   "execution_count": null,
   "metadata": {},
   "outputs": [],
   "source": []
  }
 ],
 "metadata": {
  "kernelspec": {
   "display_name": "base",
   "language": "python",
   "name": "python3"
  },
  "language_info": {
   "codemirror_mode": {
    "name": "ipython",
    "version": 3
   },
   "file_extension": ".py",
   "mimetype": "text/x-python",
   "name": "python",
   "nbconvert_exporter": "python",
   "pygments_lexer": "ipython3",
   "version": "3.9.13"
  }
 },
 "nbformat": 4,
 "nbformat_minor": 2
}
