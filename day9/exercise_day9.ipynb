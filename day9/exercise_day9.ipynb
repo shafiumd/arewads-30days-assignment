{
 "cells": [
  {
   "cell_type": "markdown",
   "metadata": {},
   "source": [
    "# Exercises - Day 9"
   ]
  },
  {
   "cell_type": "markdown",
   "metadata": {},
   "source": [
    "##### Exercises: Level 1"
   ]
  },
  {
   "cell_type": "code",
   "execution_count": 5,
   "metadata": {},
   "outputs": [
    {
     "name": "stdout",
     "output_type": "stream",
     "text": [
      "You are old enough to learn to drive.\n"
     ]
    }
   ],
   "source": [
    "# exercise 1\n",
    "user_age = int(input(\"Enter your age: \"))\n",
    "\n",
    "if user_age >= 18:\n",
    "    print(\"You are old enough to learn to drive.\")\n",
    "else:\n",
    "    years_to_wait = 18 - user_age\n",
    "    print(f\"You need {years_to_wait} more years to learn to drive.\")"
   ]
  },
  {
   "cell_type": "code",
   "execution_count": 6,
   "metadata": {},
   "outputs": [
    {
     "name": "stdout",
     "output_type": "stream",
     "text": [
      "You need 3 more years to learn to drive.\n"
     ]
    }
   ],
   "source": [
    "# exercise 1\n",
    "user_age = int(input(\"Enter your age: \"))\n",
    "\n",
    "if user_age >= 18:\n",
    "    print(\"You are old enough to learn to drive.\")\n",
    "else:\n",
    "    years_to_wait = 18 - user_age\n",
    "    print(f\"You need {years_to_wait} more years to learn to drive.\")"
   ]
  },
  {
   "cell_type": "code",
   "execution_count": 10,
   "metadata": {},
   "outputs": [
    {
     "name": "stdout",
     "output_type": "stream",
     "text": [
      "You are 5 years older than me.\n"
     ]
    }
   ],
   "source": [
    "# exercise 2\n",
    "my_age = 25\n",
    "your_age = int(input(\"Enter your age: \"))\n",
    "\n",
    "if my_age < your_age:\n",
    "    age_difference = your_age - my_age\n",
    "    if age_difference == 1:\n",
    "        print(f\"You are 1 year older than me.\")\n",
    "    else:\n",
    "        print(f\"You are {age_difference} years older than me.\")\n",
    "elif my_age > your_age:\n",
    "    age_difference = your_age - my_age\n",
    "    if age_difference == 1:\n",
    "        print(f\"I am 1 year older than you.\")\n",
    "    else:\n",
    "        print(f\"I am {age_difference} years older than you.\")\n",
    "else:\n",
    "    print(\"We are the same age.\")"
   ]
  },
  {
   "cell_type": "code",
   "execution_count": 11,
   "metadata": {},
   "outputs": [
    {
     "name": "stdout",
     "output_type": "stream",
     "text": [
      "4 is greater than 3.\n"
     ]
    }
   ],
   "source": [
    "# exercise 3\n",
    "a = int(input(\"Enter number one: \"))\n",
    "b = int(input(\"Enter number two: \"))\n",
    "\n",
    "if a > b:\n",
    "    print(f\"{a} is greater than {b}.\")\n",
    "elif a < b:\n",
    "    print(f\"{a} is smaller than {b}.\")\n",
    "else:\n",
    "    print(f\"{a} is equal to {b}.\")"
   ]
  },
  {
   "cell_type": "markdown",
   "metadata": {},
   "source": [
    "##### Exercises: Level 2"
   ]
  },
  {
   "cell_type": "code",
   "execution_count": 18,
   "metadata": {},
   "outputs": [
    {
     "name": "stdout",
     "output_type": "stream",
     "text": [
      "The student's grade is: C\n"
     ]
    }
   ],
   "source": [
    "# exercise 1\n",
    "score = int(input(\"Enter the student's score: \"))\n",
    "\n",
    "if 80 <= score <= 100:\n",
    "    grade = 'A'\n",
    "    print(f\"The student's grade is: {grade}\")\n",
    "elif 70 <= score <= 79:\n",
    "    grade = 'B'\n",
    "    print(f\"The student's grade is: {grade}\")\n",
    "elif 60 <= score <= 69:\n",
    "    grade = 'C'\n",
    "    print(f\"The student's grade is: {grade}\")\n",
    "elif 50 <= score <= 59:\n",
    "    grade = 'D'\n",
    "    print(f\"The student's grade is: {grade}\")\n",
    "elif 0 <= score <= 49:\n",
    "    grade = 'F'\n",
    "    print(f\"The student's grade is: {grade}\")\n",
    "else:\n",
    "    print('Invalid score. Please enter a score between 0 and 100.')\n",
    "\n"
   ]
  },
  {
   "cell_type": "code",
   "execution_count": 23,
   "metadata": {},
   "outputs": [
    {
     "name": "stdout",
     "output_type": "stream",
     "text": [
      "The season in March is: Spring\n"
     ]
    }
   ],
   "source": [
    "# exercise 2\n",
    "month = input(\"Enter the month: \").lower()\n",
    "\n",
    "if month in ['september', 'october', 'november']:\n",
    "    season = 'Autumn'\n",
    "    print(f\"The season in {month.capitalize()} is: {season}\")\n",
    "elif month in ['december', 'january', 'february']:\n",
    "    season = 'Winter'\n",
    "    print(f\"The season in {month.capitalize()} is: {season}\")\n",
    "elif month in ['march', 'april', 'may']:\n",
    "    season = 'Spring'\n",
    "    print(f\"The season in {month.capitalize()} is: {season}\")\n",
    "elif month in ['june', 'july', 'august']:\n",
    "    season = 'Summer'\n",
    "    print(f\"The season in {month.capitalize()} is: {season}\")\n",
    "else:\n",
    "    print('Invalid month. Please enter a valid month.')\n"
   ]
  },
  {
   "cell_type": "code",
   "execution_count": 25,
   "metadata": {},
   "outputs": [
    {
     "name": "stdout",
     "output_type": "stream",
     "text": [
      "Modified fruit list: ['banana', 'orange', 'mango', 'lemon', 'apple']\n"
     ]
    }
   ],
   "source": [
    "# exercise 3\n",
    "fruits = ['banana', 'orange', 'mango', 'lemon']\n",
    "new_fruit = input(\"Enter a fruit: \").lower()\n",
    "\n",
    "if new_fruit not in fruits:\n",
    "    fruits.append(new_fruit)\n",
    "    print(\"Modified fruit list:\", fruits)\n",
    "else:\n",
    "    print(\"That fruit already exists in the list.\")"
   ]
  },
  {
   "cell_type": "markdown",
   "metadata": {},
   "source": [
    "##### Exercises: Level 3"
   ]
  },
  {
   "cell_type": "code",
   "execution_count": 27,
   "metadata": {},
   "outputs": [
    {
     "name": "stdout",
     "output_type": "stream",
     "text": [
      "The person has 'Python' skill.\n",
      "The middle skill in the skills list is: Node\n",
      "Unknown title\n",
      "Asabeneh Yetayeh lives in Finland. He is married.\n"
     ]
    }
   ],
   "source": [
    "# exercise 4\n",
    "person = {\n",
    "    'first_name': 'Asabeneh',\n",
    "    'last_name': 'Yetayeh',\n",
    "    'age': 250,\n",
    "    'country': 'Finland',\n",
    "    'is_married': True,\n",
    "    'skills': ['JavaScript', 'React', 'Node', 'MongoDB', 'Python'],\n",
    "    'address': {\n",
    "        'street': 'Space street',\n",
    "        'zipcode': '02210'\n",
    "    }\n",
    "}\n",
    "\n",
    "if 'skills' in person:\n",
    "    if 'Python' in person['skills']:\n",
    "        print(\"The person has 'Python' skill.\")\n",
    "\n",
    "    skills_list = person['skills']\n",
    "    middle_index = len(skills_list) // 2\n",
    "    print(f\"The middle skill in the skills list is: {skills_list[middle_index]}\")\n",
    "\n",
    "if 'skills' in person:\n",
    "    person_skills = set(person['skills'])\n",
    "\n",
    "    if person_skills == {'JavaScript', 'React'}:\n",
    "        print('He is a front end developer')\n",
    "    elif person_skills == {'Node', 'Python', 'MongoDB'}:\n",
    "        print('He is a backend developer')\n",
    "    elif person_skills == {'React', 'Node', 'MongoDB'}:\n",
    "        print('He is a fullstack developer')\n",
    "    else:\n",
    "        print('Unknown title')\n",
    "\n",
    "if person.get('is_married') and person.get('country') == 'Finland':\n",
    "    print(f\"{person['first_name']} {person['last_name']} lives in {person['country']}. He is married.\")\n"
   ]
  },
  {
   "cell_type": "code",
   "execution_count": null,
   "metadata": {},
   "outputs": [],
   "source": []
  }
 ],
 "metadata": {
  "kernelspec": {
   "display_name": "base",
   "language": "python",
   "name": "python3"
  },
  "language_info": {
   "codemirror_mode": {
    "name": "ipython",
    "version": 3
   },
   "file_extension": ".py",
   "mimetype": "text/x-python",
   "name": "python",
   "nbconvert_exporter": "python",
   "pygments_lexer": "ipython3",
   "version": "3.9.13"
  }
 },
 "nbformat": 4,
 "nbformat_minor": 2
}
